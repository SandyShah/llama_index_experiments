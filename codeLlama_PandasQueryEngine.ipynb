{
 "cells": [
  {
   "cell_type": "code",
   "execution_count": 1,
   "id": "9df92a4a",
   "metadata": {},
   "outputs": [],
   "source": [
    "import pandas as pd\n",
    "import numpy as np\n",
    "\n",
    "# Generate customer data\n",
    "customer_data = {\n",
    "    'Customer_ID': range(1, 51),\n",
    "    'Name': ['Customer_' + str(i) for i in range(1, 51)],\n",
    "    'City': ['City_' + str(np.random.randint(1, 11)) for _ in range(50)]\n",
    "}\n",
    "customers_df = pd.DataFrame(customer_data)\n",
    "\n",
    "# Generate order data\n",
    "order_data = {\n",
    "    'Customer_ID': np.random.choice(range(1, 51), size=500),\n",
    "    'Product_Name': np.random.choice(['Product_A', 'Product_B', 'Product_C', 'Product_D', 'Product_E'], size=500),\n",
    "    'Order_Quantity': np.random.randint(1, 11, size=500),\n",
    "    'Price_Per_Item': np.random.randint(10, 101, size=500),  # Assuming price range from 10 to 100\n",
    "}\n",
    "\n",
    "# Calculate total price for each order\n",
    "order_data['Total_Price'] = order_data['Order_Quantity'] * order_data['Price_Per_Item']\n",
    "\n",
    "orders_df = pd.DataFrame(order_data)\n",
    "\n",
    "# Save dataframes to CSV files\n",
    "customers_df.to_csv('customer_info.csv', index=False)\n",
    "orders_df.to_csv('order_details.csv', index=False)\n"
   ]
  },
  {
   "cell_type": "code",
   "execution_count": 2,
   "id": "6a8f7110",
   "metadata": {},
   "outputs": [
    {
     "data": {
      "text/plain": [
       "'C:\\\\Python\\\\Python39\\\\python.exe'"
      ]
     },
     "execution_count": 2,
     "metadata": {},
     "output_type": "execute_result"
    }
   ],
   "source": [
    "import sys\n",
    "sys.executable"
   ]
  },
  {
   "cell_type": "code",
   "execution_count": 3,
   "id": "0ae9a7fb",
   "metadata": {},
   "outputs": [
    {
     "name": "stdout",
     "output_type": "stream",
     "text": [
      "C:\\Python\\Python39\\Include\n"
     ]
    }
   ],
   "source": [
    "import sysconfig\n",
    "print(sysconfig.get_path('include'))"
   ]
  },
  {
   "cell_type": "code",
   "execution_count": 4,
   "id": "83f773b6",
   "metadata": {},
   "outputs": [],
   "source": [
    "import os\n",
    "os.environ['CURL_CA_BUNDLE'] = \"\""
   ]
  },
  {
   "cell_type": "code",
   "execution_count": 5,
   "id": "be27b302",
   "metadata": {},
   "outputs": [
    {
     "data": {
      "text/plain": [
       "'2.31.0'"
      ]
     },
     "execution_count": 5,
     "metadata": {},
     "output_type": "execute_result"
    }
   ],
   "source": [
    "import requests\n",
    "requests.__version__"
   ]
  },
  {
   "cell_type": "code",
   "execution_count": 6,
   "id": "cfde881e",
   "metadata": {},
   "outputs": [],
   "source": [
    "import warnings\n",
    "\n",
    "# Suppress all warnings\n",
    "warnings.filterwarnings(\"ignore\")"
   ]
  },
  {
   "cell_type": "code",
   "execution_count": 7,
   "id": "d41f1f81",
   "metadata": {},
   "outputs": [],
   "source": [
    "from accelerate import Accelerator\n",
    "from transformers import AutoTokenizer\n",
    "import transformers\n",
    "import torch\n",
    "import ast"
   ]
  },
  {
   "cell_type": "code",
   "execution_count": 8,
   "id": "0f885541",
   "metadata": {},
   "outputs": [],
   "source": [
    "import logging\n",
    "import sys\n",
    "\n",
    "from llama_index.callbacks import CallbackManager, LlamaDebugHandler\n",
    "from llama_index.llms import LlamaCPP\n",
    "from llama_index.llms.llama_utils import messages_to_prompt, completion_to_prompt\n",
    "from llama_index.embeddings import HuggingFaceEmbedding\n",
    "\n",
    "import os\n",
    "from llama_index import VectorStoreIndex, SimpleDirectoryReader, ServiceContext\n",
    "from llama_index import StorageContext, load_index_from_storage\n",
    "\n",
    "from llama_index.node_parser import SimpleNodeParser\n",
    "from llama_index import VectorStoreIndex, set_global_service_context\n",
    "from llama_index.evaluation import DatasetGenerator, RelevancyEvaluator\n",
    "\n",
    "from IPython.display import Markdown, display\n",
    "from llama_index.prompts import PromptTemplate\n",
    "\n",
    "from accelerate import Accelerator\n",
    "\n",
    "import os\n",
    "import re\n",
    "import glob\n",
    "import fitz\n"
   ]
  },
  {
   "cell_type": "code",
   "execution_count": 9,
   "id": "06aab6c4",
   "metadata": {},
   "outputs": [],
   "source": [
    "import logging\n",
    "import sys\n",
    "from IPython.display import Markdown, display\n",
    "\n",
    "import pandas as pd\n",
    "from llama_index.query_engine import PandasQueryEngine\n"
   ]
  },
  {
   "cell_type": "code",
   "execution_count": 10,
   "id": "cf075137",
   "metadata": {},
   "outputs": [
    {
     "data": {
      "text/plain": [
       "'0.0.330'"
      ]
     },
     "execution_count": 10,
     "metadata": {},
     "output_type": "execute_result"
    }
   ],
   "source": [
    "import langchain\n",
    "langchain.__version__"
   ]
  },
  {
   "cell_type": "code",
   "execution_count": 11,
   "id": "923187fc",
   "metadata": {},
   "outputs": [
    {
     "data": {
      "text/plain": [
       "'0.4.15'"
      ]
     },
     "execution_count": 11,
     "metadata": {},
     "output_type": "execute_result"
    }
   ],
   "source": [
    "import chromadb\n",
    "chromadb.__version__"
   ]
  },
  {
   "cell_type": "code",
   "execution_count": 12,
   "id": "631445fe",
   "metadata": {},
   "outputs": [
    {
     "data": {
      "text/plain": [
       "'1.10.13'"
      ]
     },
     "execution_count": 12,
     "metadata": {},
     "output_type": "execute_result"
    }
   ],
   "source": [
    "import pydantic\n",
    "pydantic.__version__"
   ]
  },
  {
   "cell_type": "code",
   "execution_count": 13,
   "id": "8a14634c",
   "metadata": {},
   "outputs": [
    {
     "name": "stderr",
     "output_type": "stream",
     "text": [
      "AVX = 1 | AVX_VNNI = 0 | AVX2 = 1 | AVX512 = 0 | AVX512_VBMI = 0 | AVX512_VNNI = 0 | FMA = 1 | NEON = 0 | ARM_FMA = 0 | F16C = 1 | FP16_VA = 0 | WASM_SIMD = 0 | BLAS = 1 | SSE3 = 1 | SSSE3 = 0 | VSX = 0 | \n"
     ]
    }
   ],
   "source": [
    "n_gpu_layers = 100   # Metal set to 1 is enough.\n",
    "n_batch = 1024  # Should be between 1 and n_ctx, consider the amount of RAM of your Apple Silicon Chip.\n",
    "\n",
    "\n",
    "logging.basicConfig(stream=sys.stdout, level=logging.INFO)  # Change INFO to DEBUG if you want more extensive logging\n",
    "logging.getLogger().addHandler(logging.StreamHandler(stream=sys.stdout))\n",
    "\n",
    "llama_debug = LlamaDebugHandler(print_trace_on_end=True)\n",
    "callback_manager = CallbackManager([llama_debug])\n",
    "\n",
    "# Make sure the model path is correct for your system!\n",
    "\n",
    "llm = LlamaCPP(\n",
    "    model_path=r\"codellama-7b-instruct.Q8_0.gguf\",    \n",
    "    temperature=0.1,\n",
    "    max_new_tokens=1024,\n",
    "    \n",
    "    # llama2 has a context window of 4096 tokens, but we set it lower to allow for some wiggle room\n",
    "    context_window=5000,  # note, this sets n_ctx in the model_kwargs below, so you don't need to pass it there.\n",
    "    \n",
    "    # kwargs to pass to __call__()\n",
    "    generate_kwargs={},\n",
    "    \n",
    "    # kwargs to pass to __init__()\n",
    "    # set to at least 1 to use GPU\n",
    "    model_kwargs={\"n_gpu_layers\": n_gpu_layers, \"repetition_penalty\":1.5},\n",
    "    \n",
    "    # transform inputs into Llama2 format\n",
    "    messages_to_prompt=messages_to_prompt,\n",
    "    completion_to_prompt=completion_to_prompt,\n",
    "#     verbose=False,\n",
    ")"
   ]
  },
  {
   "cell_type": "code",
   "execution_count": 14,
   "id": "d7793438",
   "metadata": {},
   "outputs": [],
   "source": [
    "accelerator = Accelerator()\n",
    "llm = accelerator.prepare(llm)"
   ]
  },
  {
   "cell_type": "code",
   "execution_count": null,
   "id": "9a7fed0b",
   "metadata": {},
   "outputs": [],
   "source": []
  },
  {
   "cell_type": "code",
   "execution_count": 15,
   "id": "d91bed89",
   "metadata": {},
   "outputs": [],
   "source": [
    "# chunk_size - It defines the size of the chunks (or nodes) that documents are broken into when they are indexed by LlamaIndex\n",
    "\n",
    "embeddings = HuggingFaceEmbedding()\n",
    "service_context = ServiceContext.from_defaults(llm=llm, chunk_size=1024,\n",
    "                                               embed_model=embeddings,\n",
    "                                               callback_manager=callback_manager)\n",
    "set_global_service_context(service_context)\n"
   ]
  },
  {
   "cell_type": "code",
   "execution_count": 16,
   "id": "8dd34efb",
   "metadata": {},
   "outputs": [
    {
     "data": {
      "text/html": [
       "<div>\n",
       "<style scoped>\n",
       "    .dataframe tbody tr th:only-of-type {\n",
       "        vertical-align: middle;\n",
       "    }\n",
       "\n",
       "    .dataframe tbody tr th {\n",
       "        vertical-align: top;\n",
       "    }\n",
       "\n",
       "    .dataframe thead th {\n",
       "        text-align: right;\n",
       "    }\n",
       "</style>\n",
       "<table border=\"1\" class=\"dataframe\">\n",
       "  <thead>\n",
       "    <tr style=\"text-align: right;\">\n",
       "      <th></th>\n",
       "      <th>Customer_ID</th>\n",
       "      <th>Product_Name</th>\n",
       "      <th>Order_Quantity</th>\n",
       "      <th>Price_Per_Item</th>\n",
       "      <th>Total_Price</th>\n",
       "    </tr>\n",
       "  </thead>\n",
       "  <tbody>\n",
       "    <tr>\n",
       "      <th>0</th>\n",
       "      <td>43</td>\n",
       "      <td>Product_D</td>\n",
       "      <td>3</td>\n",
       "      <td>87</td>\n",
       "      <td>261</td>\n",
       "    </tr>\n",
       "    <tr>\n",
       "      <th>1</th>\n",
       "      <td>6</td>\n",
       "      <td>Product_E</td>\n",
       "      <td>10</td>\n",
       "      <td>67</td>\n",
       "      <td>670</td>\n",
       "    </tr>\n",
       "    <tr>\n",
       "      <th>2</th>\n",
       "      <td>18</td>\n",
       "      <td>Product_C</td>\n",
       "      <td>4</td>\n",
       "      <td>59</td>\n",
       "      <td>236</td>\n",
       "    </tr>\n",
       "    <tr>\n",
       "      <th>3</th>\n",
       "      <td>14</td>\n",
       "      <td>Product_A</td>\n",
       "      <td>7</td>\n",
       "      <td>22</td>\n",
       "      <td>154</td>\n",
       "    </tr>\n",
       "    <tr>\n",
       "      <th>4</th>\n",
       "      <td>27</td>\n",
       "      <td>Product_A</td>\n",
       "      <td>7</td>\n",
       "      <td>13</td>\n",
       "      <td>91</td>\n",
       "    </tr>\n",
       "  </tbody>\n",
       "</table>\n",
       "</div>"
      ],
      "text/plain": [
       "   Customer_ID Product_Name  Order_Quantity  Price_Per_Item  Total_Price\n",
       "0           43    Product_D               3              87          261\n",
       "1            6    Product_E              10              67          670\n",
       "2           18    Product_C               4              59          236\n",
       "3           14    Product_A               7              22          154\n",
       "4           27    Product_A               7              13           91"
      ]
     },
     "execution_count": 16,
     "metadata": {},
     "output_type": "execute_result"
    }
   ],
   "source": [
    "orders_df.head()"
   ]
  },
  {
   "cell_type": "code",
   "execution_count": 17,
   "id": "97b9239f",
   "metadata": {},
   "outputs": [],
   "source": [
    "query_engine = PandasQueryEngine(df=orders_df, verbose=False)"
   ]
  },
  {
   "cell_type": "code",
   "execution_count": 18,
   "id": "2c6f7b6a",
   "metadata": {},
   "outputs": [
    {
     "name": "stdout",
     "output_type": "stream",
     "text": [
      "**********\n",
      "Trace: query\n",
      "    |_templating ->  0.0 seconds\n",
      "    |_llm ->  2.725518 seconds\n",
      "**********\n",
      "  df['Total_Price'].max()\n",
      "------------------------------\n",
      "1000\n",
      "Wall time: 2.73 s\n"
     ]
    }
   ],
   "source": [
    "%%time\n",
    "response = query_engine.query(\n",
    "    \"Which product is the costliest?\",\n",
    ")\n",
    "\n",
    "print(response.metadata[\"pandas_instruction_str\"])\n",
    "print('------------------------------')\n",
    "print(response)"
   ]
  },
  {
   "cell_type": "code",
   "execution_count": 19,
   "id": "1b7f1772",
   "metadata": {},
   "outputs": [
    {
     "name": "stdout",
     "output_type": "stream",
     "text": [
      "  df['Total_Price'].max()\n"
     ]
    }
   ],
   "source": [
    "print(response.metadata[\"pandas_instruction_str\"])"
   ]
  },
  {
   "cell_type": "code",
   "execution_count": 20,
   "id": "30e787ed",
   "metadata": {},
   "outputs": [
    {
     "name": "stderr",
     "output_type": "stream",
     "text": [
      "Llama.generate: prefix-match hit\n"
     ]
    },
    {
     "name": "stdout",
     "output_type": "stream",
     "text": [
      "**********\n",
      "Trace: query\n",
      "    |_templating ->  0.0 seconds\n",
      "    |_llm ->  1.757519 seconds\n",
      "**********\n",
      "  df['Product_Name'].value_counts().plot(kind='pie', autopct='%1.1f%%')\n",
      "------------------------------\n",
      "AxesSubplot(0.260833,0.125;0.503333x0.755)\n",
      "Wall time: 2.32 s\n"
     ]
    },
    {
     "data": {
      "image/png": "[encoded data removed]",
      "text/plain": [
       "<Figure size 432x288 with 1 Axes>"
      ]
     },
     "metadata": {},
     "output_type": "display_data"
    }
   ],
   "source": [
    "%%time\n",
    "response = query_engine.query(\n",
    "    \"Plot a pie chart of number of quantities of each product\",\n",
    ")\n",
    "\n",
    "print(response.metadata[\"pandas_instruction_str\"])\n",
    "print('------------------------------')\n",
    "print(response)"
   ]
  },
  {
   "cell_type": "code",
   "execution_count": 21,
   "id": "74e10811",
   "metadata": {
    "scrolled": false
   },
   "outputs": [
    {
     "name": "stderr",
     "output_type": "stream",
     "text": [
      "Llama.generate: prefix-match hit\n"
     ]
    },
    {
     "name": "stdout",
     "output_type": "stream",
     "text": [
      "**********\n",
      "Trace: query\n",
      "    |_templating ->  0.0 seconds\n",
      "    |_llm ->  1.490018 seconds\n",
      "**********\n",
      "  df['Product_Name'].value_counts().plot(kind='bar')\n",
      "------------------------------\n",
      "AxesSubplot(0.125,0.125;0.775x0.755)\n",
      "Wall time: 1.51 s\n"
     ]
    },
    {
     "data": {
      "image/png": "[encoded data removed]",
      "text/plain": [
       "<Figure size 432x288 with 1 Axes>"
      ]
     },
     "metadata": {
      "needs_background": "light"
     },
     "output_type": "display_data"
    }
   ],
   "source": [
    "%%time\n",
    "response = query_engine.query(\n",
    "    \"Create a plot showing total order quantites of each product type\",\n",
    ")\n",
    "\n",
    "print(response.metadata[\"pandas_instruction_str\"])\n",
    "print('------------------------------')\n",
    "print(response)"
   ]
  },
  {
   "cell_type": "code",
   "execution_count": 22,
   "id": "ae1e5ccf",
   "metadata": {},
   "outputs": [
    {
     "name": "stderr",
     "output_type": "stream",
     "text": [
      "Llama.generate: prefix-match hit\n"
     ]
    },
    {
     "name": "stdout",
     "output_type": "stream",
     "text": [
      "**********\n",
      "Trace: query\n",
      "    |_templating ->  0.0 seconds\n",
      "    |_llm ->  3.444934 seconds\n",
      "**********\n",
      "  df.groupby(['Customer_ID', 'Product_Name'])['Order_Quantity'].sum().unstack(fill_value=0).plot(kind='bar', stacked=True, rot=0)\n",
      "------------------------------\n",
      "AxesSubplot(0.125,0.125;0.775x0.755)\n",
      "Wall time: 3.53 s\n"
     ]
    },
    {
     "data": {
      "image/png": "[encoded data removed]",
      "text/plain": [
       "<Figure size 432x288 with 1 Axes>"
      ]
     },
     "metadata": {
      "needs_background": "light"
     },
     "output_type": "display_data"
    }
   ],
   "source": [
    "%%time\n",
    "response = query_engine.query(\n",
    "    \"For each customer I want a plot showing distibution how many quantity of each product_type they bought\\\n",
    "    customer_ID should be on X axis and y axis should be totat order_quantity of each product type\\\n",
    "    Make a vertical stacked column chart\",\n",
    ")\n",
    "\n",
    "print(response.metadata[\"pandas_instruction_str\"])\n",
    "print('------------------------------')\n",
    "print(response)"
   ]
  },
  {
   "cell_type": "code",
   "execution_count": 23,
   "id": "d5762d20",
   "metadata": {},
   "outputs": [
    {
     "data": {
      "text/html": [
       "<div>\n",
       "<style scoped>\n",
       "    .dataframe tbody tr th:only-of-type {\n",
       "        vertical-align: middle;\n",
       "    }\n",
       "\n",
       "    .dataframe tbody tr th {\n",
       "        vertical-align: top;\n",
       "    }\n",
       "\n",
       "    .dataframe thead th {\n",
       "        text-align: right;\n",
       "    }\n",
       "</style>\n",
       "<table border=\"1\" class=\"dataframe\">\n",
       "  <thead>\n",
       "    <tr style=\"text-align: right;\">\n",
       "      <th></th>\n",
       "      <th>Customer_ID</th>\n",
       "      <th>Product_Name</th>\n",
       "      <th>Order_Quantity</th>\n",
       "      <th>Price_Per_Item</th>\n",
       "      <th>Total_Price</th>\n",
       "    </tr>\n",
       "  </thead>\n",
       "  <tbody>\n",
       "    <tr>\n",
       "      <th>212</th>\n",
       "      <td>1</td>\n",
       "      <td>Product_A</td>\n",
       "      <td>7</td>\n",
       "      <td>41</td>\n",
       "      <td>287</td>\n",
       "    </tr>\n",
       "  </tbody>\n",
       "</table>\n",
       "</div>"
      ],
      "text/plain": [
       "     Customer_ID Product_Name  Order_Quantity  Price_Per_Item  Total_Price\n",
       "212            1    Product_A               7              41          287"
      ]
     },
     "execution_count": 23,
     "metadata": {},
     "output_type": "execute_result"
    }
   ],
   "source": [
    "orders_df[(orders_df['Customer_ID']==1) & (orders_df['Product_Name']=='Product_A')]"
   ]
  },
  {
   "cell_type": "code",
   "execution_count": 24,
   "id": "826cccb8",
   "metadata": {},
   "outputs": [
    {
     "name": "stderr",
     "output_type": "stream",
     "text": [
      "Llama.generate: prefix-match hit\n"
     ]
    },
    {
     "name": "stdout",
     "output_type": "stream",
     "text": [
      "**********\n",
      "Trace: query\n",
      "    |_templating ->  0.0 seconds\n",
      "    |_llm ->  1.46754 seconds\n",
      "**********\n",
      "  df.groupby('Product_Name')['Order_Quantity'].sum()\n",
      "------------------------------\n",
      "Product_Name\n",
      "Product_A    593\n",
      "Product_B    520\n",
      "Product_C    567\n",
      "Product_D    503\n",
      "Product_E    572\n",
      "Name: Order_Quantity, dtype: int32\n",
      "Wall time: 1.47 s\n"
     ]
    }
   ],
   "source": [
    "%%time\n",
    "response = query_engine.query(\n",
    "    \"    GIve me total quantity of each product sold, summarize results by product type\",\n",
    ")\n",
    "\n",
    "print(response.metadata[\"pandas_instruction_str\"])\n",
    "print('------------------------------')\n",
    "print(response)"
   ]
  },
  {
   "cell_type": "code",
   "execution_count": 25,
   "id": "aae8cc2d",
   "metadata": {},
   "outputs": [
    {
     "name": "stderr",
     "output_type": "stream",
     "text": [
      "Llama.generate: prefix-match hit\n"
     ]
    },
    {
     "name": "stdout",
     "output_type": "stream",
     "text": [
      "**********\n",
      "Trace: query\n",
      "    |_templating ->  0.0 seconds\n",
      "    |_llm ->  1.923351 seconds\n",
      "**********\n",
      "  df.groupby('Product_Name')['Order_Quantity', 'Total_Price'].sum().reset_index()\n",
      "------------------------------\n",
      "  Product_Name  Order_Quantity  Total_Price\n",
      "0    Product_A             593        33498\n",
      "1    Product_B             520        29260\n",
      "2    Product_C             567        31607\n",
      "3    Product_D             503        25567\n",
      "4    Product_E             572        28733\n",
      "Wall time: 1.93 s\n"
     ]
    }
   ],
   "source": [
    "%%time\n",
    "response = query_engine.query(\n",
    "    \"    GIve me total quantity and total value of each product sold in a new table.\",\n",
    ")\n",
    "\n",
    "print(response.metadata[\"pandas_instruction_str\"])\n",
    "print('------------------------------')\n",
    "print(response)"
   ]
  },
  {
   "cell_type": "code",
   "execution_count": 26,
   "id": "dd47b027",
   "metadata": {},
   "outputs": [
    {
     "data": {
      "text/html": [
       "<div>\n",
       "<style scoped>\n",
       "    .dataframe tbody tr th:only-of-type {\n",
       "        vertical-align: middle;\n",
       "    }\n",
       "\n",
       "    .dataframe tbody tr th {\n",
       "        vertical-align: top;\n",
       "    }\n",
       "\n",
       "    .dataframe thead th {\n",
       "        text-align: right;\n",
       "    }\n",
       "</style>\n",
       "<table border=\"1\" class=\"dataframe\">\n",
       "  <thead>\n",
       "    <tr style=\"text-align: right;\">\n",
       "      <th></th>\n",
       "      <th>Customer_ID</th>\n",
       "      <th>Product_Name</th>\n",
       "      <th>Order_Quantity</th>\n",
       "      <th>Price_Per_Item</th>\n",
       "      <th>Total_Price</th>\n",
       "    </tr>\n",
       "  </thead>\n",
       "  <tbody>\n",
       "    <tr>\n",
       "      <th>0</th>\n",
       "      <td>43</td>\n",
       "      <td>Product_D</td>\n",
       "      <td>3</td>\n",
       "      <td>87</td>\n",
       "      <td>261</td>\n",
       "    </tr>\n",
       "    <tr>\n",
       "      <th>1</th>\n",
       "      <td>6</td>\n",
       "      <td>Product_E</td>\n",
       "      <td>10</td>\n",
       "      <td>67</td>\n",
       "      <td>670</td>\n",
       "    </tr>\n",
       "    <tr>\n",
       "      <th>2</th>\n",
       "      <td>18</td>\n",
       "      <td>Product_C</td>\n",
       "      <td>4</td>\n",
       "      <td>59</td>\n",
       "      <td>236</td>\n",
       "    </tr>\n",
       "    <tr>\n",
       "      <th>3</th>\n",
       "      <td>14</td>\n",
       "      <td>Product_A</td>\n",
       "      <td>7</td>\n",
       "      <td>22</td>\n",
       "      <td>154</td>\n",
       "    </tr>\n",
       "    <tr>\n",
       "      <th>4</th>\n",
       "      <td>27</td>\n",
       "      <td>Product_A</td>\n",
       "      <td>7</td>\n",
       "      <td>13</td>\n",
       "      <td>91</td>\n",
       "    </tr>\n",
       "  </tbody>\n",
       "</table>\n",
       "</div>"
      ],
      "text/plain": [
       "   Customer_ID Product_Name  Order_Quantity  Price_Per_Item  Total_Price\n",
       "0           43    Product_D               3              87          261\n",
       "1            6    Product_E              10              67          670\n",
       "2           18    Product_C               4              59          236\n",
       "3           14    Product_A               7              22          154\n",
       "4           27    Product_A               7              13           91"
      ]
     },
     "execution_count": 26,
     "metadata": {},
     "output_type": "execute_result"
    }
   ],
   "source": [
    "orders_df.head()"
   ]
  },
  {
   "cell_type": "code",
   "execution_count": 27,
   "id": "7bcceb31",
   "metadata": {},
   "outputs": [
    {
     "name": "stderr",
     "output_type": "stream",
     "text": [
      "Llama.generate: prefix-match hit\n"
     ]
    },
    {
     "name": "stdout",
     "output_type": "stream",
     "text": [
      "**********\n",
      "Trace: query\n",
      "    |_templating ->  0.0 seconds\n",
      "    |_llm ->  1.9644 seconds\n",
      "**********\n",
      "  df.groupby('Product_Name')['Order_Quantity', 'Total_Price'].sum().reset_index()\n",
      "------------------------------\n",
      "  Product_Name  Order_Quantity  Total_Price\n",
      "0    Product_A             593        33498\n",
      "1    Product_B             520        29260\n",
      "2    Product_C             567        31607\n",
      "3    Product_D             503        25567\n",
      "4    Product_E             572        28733\n",
      "Wall time: 1.97 s\n"
     ]
    }
   ],
   "source": [
    "%%time\n",
    "response = query_engine.query(\n",
    "    \"GIve me total quantity and total value of each product sold in a new\\\n",
    "    table. Use these values to calculate avg_price per item overall\",\n",
    ")\n",
    "\n",
    "print(response.metadata[\"pandas_instruction_str\"])\n",
    "print('------------------------------')\n",
    "print(response)"
   ]
  },
  {
   "cell_type": "code",
   "execution_count": null,
   "id": "03cb2e34",
   "metadata": {},
   "outputs": [],
   "source": [
    "orders_df.head()"
   ]
  },
  {
   "cell_type": "code",
   "execution_count": null,
   "id": "280e4abf",
   "metadata": {},
   "outputs": [],
   "source": [
    "customers_df.head()"
   ]
  },
  {
   "cell_type": "code",
   "execution_count": 29,
   "id": "d541ef70",
   "metadata": {},
   "outputs": [],
   "source": [
    "instruction_str = (\n",
    "    \"1.PRINT ONLY THE EXPRESSION.\\n\\\n",
    "    2. Do not quote the expression.\\n\"\n",
    ")"
   ]
  },
  {
   "cell_type": "code",
   "execution_count": 30,
   "id": "69b11d64",
   "metadata": {},
   "outputs": [],
   "source": [
    "basic_info = \"I have two pandas df and details are below.\\\n",
    "Generate python code for the query asked and give only query as the output.\\\n",
    "-------------------------------------------\\\n",
    "dataframe 1\\\n",
    "orders_df and it has columns\\\n",
    "'Customer_ID': unique ID for each customer,\\\n",
    "'Product_Name': Unique name or type of the product,\\\n",
    "'Order_Quantity': Number of items of particular product ordered,\\\n",
    "'Price_per_item': Price of single item,\\\n",
    "'Total_Price': Price_per_item*Order_quantity.\\\n",
    "Dataframe 2\\\n",
    "customers_df and it has columns\\\n",
    "'Customer_ID': unique ID for each customer,\\\n",
    "'Name': name of the customer,\\\n",
    "'City': City that the customer lives in and it is also the city of the order.\\\n",
    "--------------------------------------------\\\n",
    "Generate python code for the following query:\\\n",
    "\""
   ]
  },
  {
   "cell_type": "code",
   "execution_count": 32,
   "id": "7fc17731",
   "metadata": {},
   "outputs": [],
   "source": [
    "query_engine = PandasQueryEngine(df=orders_df,instruction_str=instruction_str,\\\n",
    "                                 verbose=False)"
   ]
  },
  {
   "cell_type": "code",
   "execution_count": 33,
   "id": "8887517c",
   "metadata": {},
   "outputs": [
    {
     "name": "stderr",
     "output_type": "stream",
     "text": [
      "Llama.generate: prefix-match hit\n"
     ]
    },
    {
     "name": "stdout",
     "output_type": "stream",
     "text": [
      "**********\n",
      "Trace: query\n",
      "    |_templating ->  0.0 seconds\n",
      "    |_llm ->  3.948302 seconds\n",
      "**********\n",
      "Wall time: 3.98 s\n"
     ]
    },
    {
     "name": "stderr",
     "output_type": "stream",
     "text": [
      "Traceback (most recent call last):\n",
      "  File \"C:\\Python\\Python39\\lib\\site-packages\\llama_index\\query_engine\\pandas\\output_parser.py\", line 61, in default_output_processor\n",
      "    output_str = str(safe_eval(module_end_str, {\"np\": np}, local_vars))\n",
      "  File \"C:\\Python\\Python39\\lib\\site-packages\\llama_index\\exec_utils.py\", line 140, in safe_eval\n",
      "    return eval(__source, _get_restricted_globals(__globals), __locals)\n",
      "  File \"<string>\", line 1, in <module>\n",
      "NameError: name 'customers_df' is not defined\n"
     ]
    }
   ],
   "source": [
    "%%time\n",
    "response = query_engine.query(basic_info+\n",
    "    \"COmbine tables customers_df and orders_df on customer_ID and then calculate\\\n",
    "    the total amount of money spent by each city and order by total_price\",\n",
    ")\n",
    "\n",
    "\n",
    "# print(response.metadata[\"pandas_instruction_str\"])\n",
    "# print('------------------------------')\n",
    "# print(response)"
   ]
  },
  {
   "cell_type": "code",
   "execution_count": 34,
   "id": "27982744",
   "metadata": {},
   "outputs": [
    {
     "name": "stdout",
     "output_type": "stream",
     "text": [
      "Doing a custom eval\n",
      "customers_df.merge(orders_df, on='Customer_ID').groupby('City')['Total_Price'].sum().sort_values(ascending=False)\n",
      "City\n",
      "City_10    27878\n",
      "City_3     24888\n",
      "City_6     18877\n",
      "City_9     15490\n",
      "City_7     13598\n",
      "City_2     12887\n",
      "City_5     12375\n",
      "City_1     11210\n",
      "City_8      6307\n",
      "City_4      5155\n",
      "Name: Total_Price, dtype: int32\n"
     ]
    }
   ],
   "source": [
    "if str(response).find('error running')==-1:\n",
    "    print(response)\n",
    "else:\n",
    "    print('Doing a custom eval')\n",
    "    eval_str = response.metadata[\"pandas_instruction_str\"]\n",
    "    eval_str = eval_str.strip(\"` \")\n",
    "    print(eval_str)\n",
    "    print(eval(eval_str))\n"
   ]
  },
  {
   "cell_type": "code",
   "execution_count": 35,
   "id": "0fe372e3",
   "metadata": {},
   "outputs": [
    {
     "name": "stderr",
     "output_type": "stream",
     "text": [
      "Llama.generate: prefix-match hit\n"
     ]
    },
    {
     "name": "stdout",
     "output_type": "stream",
     "text": [
      "**********\n",
      "Trace: query\n",
      "    |_templating ->  0.0 seconds\n",
      "    |_llm ->  8.17496 seconds\n",
      "**********\n",
      "--------------------\n",
      "Doing a custom eval\n",
      "\n",
      "import pandas as pd\n",
      "\n",
      "# Combine tables customers_df and orders_df on customer_ID\n",
      "combined_df = pd.merge(customers_df, orders_df, on='Customer_ID')\n",
      "\n",
      "# Group by city and calculate total quantity of products bought\n",
      "total_quantity_by_city = combined_df.groupby('City')['Order_Quantity'].sum()\n",
      "\n",
      "# Plot the result\n",
      "total_quantity_by_city.plot(kind='bar', title='Total Quantity of Products Bought by City')\n",
      "\n",
      "None\n",
      "Wall time: 8.2 s\n"
     ]
    },
    {
     "name": "stderr",
     "output_type": "stream",
     "text": [
      "Traceback (most recent call last):\n",
      "  File \"C:\\Python\\Python39\\lib\\site-packages\\llama_index\\query_engine\\pandas\\output_parser.py\", line 61, in default_output_processor\n",
      "    output_str = str(safe_eval(module_end_str, {\"np\": np}, local_vars))\n",
      "  File \"C:\\Python\\Python39\\lib\\site-packages\\llama_index\\exec_utils.py\", line 140, in safe_eval\n",
      "    return eval(__source, _get_restricted_globals(__globals), __locals)\n",
      "  File \"<string>\", line 0\n",
      "    \n",
      "SyntaxError: unexpected EOF while parsing\n"
     ]
    },
    {
     "data": {
      "image/png": "[encoded data removed]",
      "text/plain": [
       "<Figure size 432x288 with 1 Axes>"
      ]
     },
     "metadata": {
      "needs_background": "light"
     },
     "output_type": "display_data"
    }
   ],
   "source": [
    "%%time\n",
    "response = query_engine.query(basic_info+\n",
    "    \"Combine tables customers_df and orders_df on customer_ID and then \\\n",
    "    give me a plot showing total_quantoty of products bought by each city.\\\n",
    "    Recheck the code that you give - take time if needed.\\\n",
    "    Only give code blocks and no explanations.\",\n",
    ")\n",
    "\n",
    "print('--------------------')\n",
    "\n",
    "if str(response).find('error running')==-1:\n",
    "    print(response)\n",
    "else:\n",
    "    print('Doing a custom eval')\n",
    "    eval_str = response.metadata[\"pandas_instruction_str\"]\n",
    "    eval_str = eval_str.strip(\"` \")\n",
    "    print(eval_str)\n",
    "    print(exec(eval_str))\n"
   ]
  },
  {
   "cell_type": "code",
   "execution_count": 36,
   "id": "3223cd6a",
   "metadata": {},
   "outputs": [
    {
     "name": "stderr",
     "output_type": "stream",
     "text": [
      "Llama.generate: prefix-match hit\n"
     ]
    },
    {
     "name": "stdout",
     "output_type": "stream",
     "text": [
      "**********\n",
      "Trace: query\n",
      "    |_templating ->  0.0 seconds\n",
      "    |_llm ->  8.32455 seconds\n",
      "**********\n",
      "--------------------\n",
      "Doing a custom eval\n",
      "\n",
      "import pandas as pd\n",
      "\n",
      "# Combine tables customers_df and orders_df on customer_ID\n",
      "combined_df = pd.merge(customers_df, orders_df, on='Customer_ID')\n",
      "\n",
      "# Group by city and product name to get total quantity of products bought by each city\n",
      "grouped_df = combined_df.groupby(['City', 'Product_Name'])['Order_Quantity'].sum()\n",
      "\n",
      "# Plot the distribution of total quantity of products bought by each city\n",
      "grouped_df.unstack().plot(kind='bar')\n",
      "\n",
      "None\n",
      "Wall time: 8.37 s\n"
     ]
    },
    {
     "name": "stderr",
     "output_type": "stream",
     "text": [
      "Traceback (most recent call last):\n",
      "  File \"C:\\Python\\Python39\\lib\\site-packages\\llama_index\\query_engine\\pandas\\output_parser.py\", line 61, in default_output_processor\n",
      "    output_str = str(safe_eval(module_end_str, {\"np\": np}, local_vars))\n",
      "  File \"C:\\Python\\Python39\\lib\\site-packages\\llama_index\\exec_utils.py\", line 140, in safe_eval\n",
      "    return eval(__source, _get_restricted_globals(__globals), __locals)\n",
      "  File \"<string>\", line 0\n",
      "    \n",
      "SyntaxError: unexpected EOF while parsing\n"
     ]
    },
    {
     "data": {
      "image/png": "[encoded data removed]",
      "text/plain": [
       "<Figure size 432x288 with 1 Axes>"
      ]
     },
     "metadata": {
      "needs_background": "light"
     },
     "output_type": "display_data"
    }
   ],
   "source": [
    "%%time\n",
    "response = query_engine.query(basic_info+\n",
    "    \"Combine tables customers_df and orders_df on customer_ID and then \\\n",
    "    give me a plot showing total_quantoty of products bought by each city.\\\n",
    "    Recheck the code that you give - take time if needed.\\\n",
    "    If possible use Product_Name as legends in the bar plots - so that I know the distribution across different products.\\\n",
    "    Only give code blocks and no explanations.\",\n",
    ")\n",
    "\n",
    "print('--------------------')\n",
    "\n",
    "if str(response).find('error running')==-1:\n",
    "    print(response)\n",
    "else:\n",
    "    print('Doing a custom eval')\n",
    "    eval_str = response.metadata[\"pandas_instruction_str\"]\n",
    "    eval_str = eval_str.strip(\"` \")\n",
    "    print(eval_str)\n",
    "    print(exec(eval_str))\n"
   ]
  },
  {
   "cell_type": "code",
   "execution_count": 37,
   "id": "7c6e8a04",
   "metadata": {},
   "outputs": [
    {
     "name": "stderr",
     "output_type": "stream",
     "text": [
      "Llama.generate: prefix-match hit\n"
     ]
    },
    {
     "name": "stdout",
     "output_type": "stream",
     "text": [
      "**********\n",
      "Trace: query\n",
      "    |_templating ->  0.0 seconds\n",
      "    |_llm ->  8.554667 seconds\n",
      "**********\n",
      "--------------------\n",
      "Doing a custom eval\n",
      "\n",
      "import pandas as pd\n",
      "\n",
      "# Combine tables customers_df and orders_df on customer_ID\n",
      "combined_df = pd.merge(customers_df, orders_df, on='Customer_ID')\n",
      "\n",
      "# Group by city and product name to get total quantity of products bought\n",
      "grouped_df = combined_df.groupby(['City', 'Product_Name'])['Order_Quantity'].sum()\n",
      "\n",
      "# Plot the distribution of products bought by each city\n",
      "grouped_df.unstack().plot(kind='bar', stacked=True, legend=True)\n",
      "\n",
      "None\n",
      "Wall time: 8.59 s\n"
     ]
    },
    {
     "name": "stderr",
     "output_type": "stream",
     "text": [
      "Traceback (most recent call last):\n",
      "  File \"C:\\Python\\Python39\\lib\\site-packages\\llama_index\\query_engine\\pandas\\output_parser.py\", line 61, in default_output_processor\n",
      "    output_str = str(safe_eval(module_end_str, {\"np\": np}, local_vars))\n",
      "  File \"C:\\Python\\Python39\\lib\\site-packages\\llama_index\\exec_utils.py\", line 140, in safe_eval\n",
      "    return eval(__source, _get_restricted_globals(__globals), __locals)\n",
      "  File \"<string>\", line 0\n",
      "    \n",
      "SyntaxError: unexpected EOF while parsing\n"
     ]
    },
    {
     "data": {
      "image/png": "[encoded data removed]",
      "text/plain": [
       "<Figure size 432x288 with 1 Axes>"
      ]
     },
     "metadata": {
      "needs_background": "light"
     },
     "output_type": "display_data"
    }
   ],
   "source": [
    "%%time\n",
    "response = query_engine.query(basic_info+\n",
    "    \"Combine tables customers_df and orders_df on customer_ID and then \\\n",
    "    give me a plot showing total_quantoty of products bought by each city.\\\n",
    "    Recheck the code that you give - take time if needed.\\\n",
    "    If possible use Product_Name as legends in the bar plots - so that I know the distribution across different products.\\\n",
    "    Stack the products one over another for each city.\\\n",
    "    Only give code blocks and no explanations.\",\n",
    ")\n",
    "\n",
    "print('--------------------')\n",
    "\n",
    "if str(response).find('error running')==-1:\n",
    "    print(response)\n",
    "else:\n",
    "    print('Doing a custom eval')\n",
    "    eval_str = response.metadata[\"pandas_instruction_str\"]\n",
    "    eval_str = eval_str.strip(\"` \")\n",
    "    print(eval_str)\n",
    "    print(exec(eval_str))\n"
   ]
  },
  {
   "cell_type": "code",
   "execution_count": 38,
   "id": "2b5ddd61",
   "metadata": {},
   "outputs": [
    {
     "name": "stderr",
     "output_type": "stream",
     "text": [
      "Llama.generate: prefix-match hit\n"
     ]
    },
    {
     "name": "stdout",
     "output_type": "stream",
     "text": [
      "**********\n",
      "Trace: query\n",
      "    |_templating ->  0.0 seconds\n",
      "    |_llm ->  1.312008 seconds\n",
      "**********\n",
      "--------------------\n",
      "Doing a custom eval\n",
      "customers_df['City'].value_counts().idxmax()\n",
      "City_10\n",
      "Wall time: 1.32 s\n"
     ]
    },
    {
     "name": "stderr",
     "output_type": "stream",
     "text": [
      "Traceback (most recent call last):\n",
      "  File \"C:\\Python\\Python39\\lib\\site-packages\\llama_index\\query_engine\\pandas\\output_parser.py\", line 61, in default_output_processor\n",
      "    output_str = str(safe_eval(module_end_str, {\"np\": np}, local_vars))\n",
      "  File \"C:\\Python\\Python39\\lib\\site-packages\\llama_index\\exec_utils.py\", line 140, in safe_eval\n",
      "    return eval(__source, _get_restricted_globals(__globals), __locals)\n",
      "  File \"<string>\", line 1, in <module>\n",
      "NameError: name 'customers_df' is not defined\n"
     ]
    }
   ],
   "source": [
    "%%time\n",
    "response = query_engine.query(basic_info+\n",
    "    \"which city has most number of customers?\",\n",
    ")\n",
    "\n",
    "print('--------------------')\n",
    "\n",
    "if str(response).find('error running')==-1:\n",
    "    print(response)\n",
    "else:\n",
    "    print('Doing a custom eval')\n",
    "    eval_str = response.metadata[\"pandas_instruction_str\"]\n",
    "    eval_str = eval_str.strip(\"` \")\n",
    "    print(eval_str)\n",
    "    print(eval(eval_str))\n"
   ]
  },
  {
   "cell_type": "code",
   "execution_count": null,
   "id": "ef676b24",
   "metadata": {},
   "outputs": [],
   "source": []
  },
  {
   "cell_type": "code",
   "execution_count": null,
   "id": "7f450258",
   "metadata": {},
   "outputs": [],
   "source": []
  }
 ],
 "metadata": {
  "kernelspec": {
   "display_name": "Python 3 (ipykernel)",
   "language": "python",
   "name": "python3"
  },
  "language_info": {
   "codemirror_mode": {
    "name": "ipython",
    "version": 3
   },
   "file_extension": ".py",
   "mimetype": "text/x-python",
   "name": "python",
   "nbconvert_exporter": "python",
   "pygments_lexer": "ipython3",
   "version": "3.10.9"
  }
 },
 "nbformat": 4,
 "nbformat_minor": 5
}
