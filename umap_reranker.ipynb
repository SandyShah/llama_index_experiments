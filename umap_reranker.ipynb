{
 "cells": [
  {
   "cell_type": "code",
   "execution_count": 1,
   "id": "83f773b6",
   "metadata": {
    "scrolled": true
   },
   "outputs": [],
   "source": [
    "import os\n",
    "os.environ['CURL_CA_BUNDLE'] = \"\""
   ]
  },
  {
   "cell_type": "code",
   "execution_count": 2,
   "id": "0e7d2dce",
   "metadata": {
    "scrolled": true
   },
   "outputs": [],
   "source": [
    "# !pip install llama-index"
   ]
  },
  {
   "cell_type": "code",
   "execution_count": 3,
   "id": "529f42a7",
   "metadata": {
    "scrolled": true
   },
   "outputs": [],
   "source": [
    "import logging\n",
    "import sys\n",
    "import matplotlib.pyplot as plt\n",
    "import numpy as np\n",
    "from tqdm import tqdm\n",
    "\n",
    "from llama_index.callbacks import CallbackManager, LlamaDebugHandler\n",
    "from llama_index.llms import LlamaCPP\n",
    "from llama_index.llms.llama_utils import messages_to_prompt, completion_to_prompt\n",
    "from llama_index.embeddings import HuggingFaceEmbedding\n",
    "\n",
    "import os\n",
    "from llama_index import VectorStoreIndex, SimpleDirectoryReader, ServiceContext\n",
    "from llama_index import StorageContext, load_index_from_storage\n",
    "from llama_index.node_parser import (\n",
    "    SentenceWindowNodeParser,\n",
    ")\n",
    "from llama_index.text_splitter import SentenceSplitter\n",
    "\n",
    "from llama_index.node_parser import SimpleNodeParser\n",
    "from llama_index import VectorStoreIndex, set_global_service_context\n",
    "from llama_index.evaluation import DatasetGenerator, RelevancyEvaluator\n",
    "from llama_index.postprocessor import MetadataReplacementPostProcessor\n",
    "\n",
    "from IPython.display import Markdown, display\n",
    "from llama_index.prompts import PromptTemplate\n",
    "\n",
    "from accelerate import Accelerator\n",
    "\n",
    "import os\n",
    "import re\n",
    "import glob\n",
    "import fitz\n",
    "import joblib\n",
    "\n",
    "from pathlib import Path\n",
    "from llama_hub.file.pdf.base import PDFReader\n",
    "from llama_index.response.notebook_utils import display_source_node\n",
    "from llama_index.retrievers import RecursiveRetriever\n",
    "from llama_index.query_engine import RetrieverQueryEngine\n",
    "from llama_index import VectorStoreIndex, ServiceContext\n",
    "import json\n",
    "\n",
    "from llama_index.node_parser import SimpleNodeParser\n",
    "from llama_index.schema import IndexNode\n",
    "\n",
    "from llama_index.embeddings import resolve_embed_model\n",
    "\n",
    "import umap\n"
   ]
  },
  {
   "cell_type": "code",
   "execution_count": 4,
   "id": "2105ac4a",
   "metadata": {
    "scrolled": true
   },
   "outputs": [],
   "source": [
    "from llama_index.postprocessor import LLMRerank\n",
    "from llama_index import QueryBundle\n",
    "from llama_index.retrievers import VectorIndexRetriever"
   ]
  },
  {
   "cell_type": "code",
   "execution_count": null,
   "id": "fc4f6b9f",
   "metadata": {
    "scrolled": true
   },
   "outputs": [],
   "source": [
    "logging.basicConfig(stream=sys.stdout, level=logging.INFO)  # Change INFO to DEBUG if you want more extensive logging\n",
    "logging.getLogger().addHandler(logging.StreamHandler(stream=sys.stdout))\n",
    "\n",
    "llama_debug = LlamaDebugHandler(print_trace_on_end=True)\n",
    "callback_manager = CallbackManager([llama_debug])\n",
    "\n",
    "llm = LlamaCPP(\n",
    "   \n",
    "    # optionally, you can set the path to a pre-downloaded model instead of model_url\n",
    "    model_path=r\"llama-2-7b-chat.Q8_0.gguf\",\n",
    "   \n",
    "    temperature=0.1,\n",
    "    max_new_tokens=400,\n",
    "    \n",
    "    # llama2 has a context window of 4096 tokens, but we set it lower to allow for some wiggle room\n",
    "    context_window=4500,  # note, this sets n_ctx in the model_kwargs below, so you don't need to pass it there.\n",
    "    \n",
    "    # kwargs to pass to __call__()\n",
    "    generate_kwargs={},\n",
    "    \n",
    "    # kwargs to pass to __init__()\n",
    "    # set to at least 1 to use GPU\n",
    "    model_kwargs={\"n_gpu_layers\": 50},\n",
    "    \n",
    "    # transform inputs into Llama2 format\n",
    "    messages_to_prompt=messages_to_prompt,\n",
    "    completion_to_prompt=completion_to_prompt,\n",
    "#     verbose=True,\n",
    ")"
   ]
  },
  {
   "cell_type": "code",
   "execution_count": 6,
   "id": "c6cdb48a",
   "metadata": {
    "scrolled": true
   },
   "outputs": [],
   "source": [
    "accelerator = Accelerator()\n",
    "llm = accelerator.prepare(llm)"
   ]
  },
  {
   "cell_type": "code",
   "execution_count": 7,
   "id": "921a3af7",
   "metadata": {
    "scrolled": true
   },
   "outputs": [],
   "source": [
    "embeddings = HuggingFaceEmbedding()\n",
    "\n",
    "# chunk_size - It defines the size of the chunks (or nodes) that documents are broken into when they are indexed by LlamaIndex\n",
    "service_context = ServiceContext.from_defaults(llm=llm, chunk_size=800,\n",
    "                                               embed_model=embeddings,\n",
    "                                               callback_manager=callback_manager)\n",
    "set_global_service_context(service_context)\n"
   ]
  },
  {
   "cell_type": "code",
   "execution_count": 8,
   "id": "4cd9adc0",
   "metadata": {
    "scrolled": true
   },
   "outputs": [
    {
     "name": "stderr",
     "output_type": "stream",
     "text": [
      "\n",
      "llama_print_timings:        load time =     531.22 ms\n",
      "llama_print_timings:      sample time =       7.10 ms /    67 runs   (    0.11 ms per token,  9440.61 tokens per second)\n",
      "llama_print_timings: prompt eval time =     531.16 ms /    71 tokens (    7.48 ms per token,   133.67 tokens per second)\n",
      "llama_print_timings:        eval time =    1456.88 ms /    66 runs   (   22.07 ms per token,    45.30 tokens per second)\n",
      "llama_print_timings:       total time =    2098.86 ms /   137 tokens\n"
     ]
    },
    {
     "name": "stdout",
     "output_type": "stream",
     "text": [
      "Wall time: 2.1 s\n"
     ]
    }
   ],
   "source": [
    "%%time\n",
    "A = llm.complete('Tell me something about color Red')"
   ]
  },
  {
   "cell_type": "code",
   "execution_count": 9,
   "id": "3ed49e9c",
   "metadata": {
    "scrolled": true
   },
   "outputs": [],
   "source": [
    "llm.system_prompt"
   ]
  },
  {
   "cell_type": "code",
   "execution_count": 10,
   "id": "48ed41eb",
   "metadata": {
    "scrolled": true
   },
   "outputs": [],
   "source": [
    "loader = PDFReader()\n",
    "docs0 = loader.load_data(file=Path(r\"all_post_in_one.pdf\"))"
   ]
  },
  {
   "cell_type": "code",
   "execution_count": 11,
   "id": "26c92521",
   "metadata": {
    "scrolled": true
   },
   "outputs": [],
   "source": [
    "from llama_index import Document\n",
    "\n",
    "doc_text = \"\\n\\n\".join([d.get_content() for d in docs0])\n",
    "docs = [Document(text=doc_text)]"
   ]
  },
  {
   "cell_type": "code",
   "execution_count": 107,
   "id": "7d0ea5d0",
   "metadata": {
    "scrolled": true
   },
   "outputs": [
    {
     "data": {
      "text/plain": [
       "SentenceSplitter(include_metadata=True, include_prev_next_rel=True, callback_manager=<llama_index.callbacks.base.CallbackManager object at 0x00000145372485B0>, id_func=<function default_id_func at 0x0000013F2FBA48B0>, chunk_size=600, chunk_overlap=100, separator=' ', paragraph_separator='\\n\\n\\n', secondary_chunking_regex='[^,.;。？！]+[,.;。？！]?')"
      ]
     },
     "execution_count": 107,
     "metadata": {},
     "output_type": "execute_result"
    }
   ],
   "source": [
    "node_parser = SimpleNodeParser.from_defaults(chunk_size=600, chunk_overlap=100)\n",
    "node_parser"
   ]
  },
  {
   "cell_type": "code",
   "execution_count": 108,
   "id": "dd12558f",
   "metadata": {
    "scrolled": true
   },
   "outputs": [],
   "source": [
    "base_nodes = node_parser.get_nodes_from_documents(docs)"
   ]
  },
  {
   "cell_type": "code",
   "execution_count": 109,
   "id": "2977237f",
   "metadata": {
    "scrolled": true
   },
   "outputs": [],
   "source": [
    "embed_model = resolve_embed_model(\"local:BAAI/bge-small-en\")\n",
    "service_context = ServiceContext.from_defaults(\n",
    "    llm=llm, embed_model=embed_model\n",
    ")"
   ]
  },
  {
   "cell_type": "code",
   "execution_count": 110,
   "id": "b0b12e28",
   "metadata": {
    "collapsed": true,
    "scrolled": true
   },
   "outputs": [
    {
     "name": "stdout",
     "output_type": "stream",
     "text": [
      "**********\n",
      "Trace: index_construction\n",
      "    |_embedding ->  0.455443 seconds\n",
      "    |_embedding ->  0.270992 seconds\n",
      "    |_embedding ->  0.267111 seconds\n",
      "    |_embedding ->  0.26901 seconds\n",
      "    |_embedding ->  0.265158 seconds\n",
      "    |_embedding ->  0.266507 seconds\n",
      "    |_embedding ->  0.267 seconds\n",
      "    |_embedding ->  0.266103 seconds\n",
      "    |_embedding ->  0.267779 seconds\n",
      "    |_embedding ->  0.268024 seconds\n",
      "    |_embedding ->  0.266994 seconds\n",
      "    |_embedding ->  0.268219 seconds\n",
      "    |_embedding ->  0.268009 seconds\n",
      "    |_embedding ->  0.266037 seconds\n",
      "    |_embedding ->  0.26708 seconds\n",
      "    |_embedding ->  0.266774 seconds\n",
      "    |_embedding ->  0.267395 seconds\n",
      "    |_embedding ->  0.265999 seconds\n",
      "    |_embedding ->  0.052 seconds\n",
      "**********\n"
     ]
    }
   ],
   "source": [
    "base_index = VectorStoreIndex(base_nodes, service_context=service_context)\n",
    "base_retriever = base_index.as_retriever(similarity_top_k=5)"
   ]
  },
  {
   "cell_type": "code",
   "execution_count": 111,
   "id": "47a548b5",
   "metadata": {
    "scrolled": true
   },
   "outputs": [],
   "source": [
    "base_node_text = [base_nodes[i].text for i in range(len(base_nodes))]"
   ]
  },
  {
   "cell_type": "code",
   "execution_count": 112,
   "id": "90f697b1",
   "metadata": {
    "scrolled": true
   },
   "outputs": [
    {
     "data": {
      "text/plain": [
       "187"
      ]
     },
     "execution_count": 112,
     "metadata": {},
     "output_type": "execute_result"
    }
   ],
   "source": [
    "len(base_node_text)"
   ]
  },
  {
   "cell_type": "code",
   "execution_count": 113,
   "id": "2901f7ef",
   "metadata": {
    "scrolled": true
   },
   "outputs": [],
   "source": [
    "embeddings = embed_model.get_text_embedding_batch(base_node_text)"
   ]
  },
  {
   "cell_type": "code",
   "execution_count": 114,
   "id": "3006f0bc",
   "metadata": {
    "scrolled": true
   },
   "outputs": [
    {
     "data": {
      "text/plain": [
       "187"
      ]
     },
     "execution_count": 114,
     "metadata": {},
     "output_type": "execute_result"
    }
   ],
   "source": [
    "len(embeddings)"
   ]
  },
  {
   "cell_type": "code",
   "execution_count": 115,
   "id": "b3334243",
   "metadata": {
    "scrolled": true
   },
   "outputs": [
    {
     "name": "stderr",
     "output_type": "stream",
     "text": [
      "C:\\Python\\Python39\\lib\\site-packages\\umap\\umap_.py:1943: UserWarning: n_jobs value -1 overridden to 1 by setting random_state. Use no seed for parallelism.\n",
      "  warn(f\"n_jobs value {self.n_jobs} overridden to 1 by setting random_state. Use no seed for parallelism.\")\n"
     ]
    }
   ],
   "source": [
    "umap_transform = umap.UMAP(random_state=0, transform_seed=0).fit(embeddings)"
   ]
  },
  {
   "cell_type": "code",
   "execution_count": 116,
   "id": "e9332a7b",
   "metadata": {
    "scrolled": true
   },
   "outputs": [],
   "source": [
    "def project_embeddings(embeddings, umap_transform):\n",
    "    umap_embeddings = np.empty((len(embeddings),2))\n",
    "    for i, embedding in enumerate(tqdm(embeddings)): \n",
    "        umap_embeddings[i] = umap_transform.transform([embedding])\n",
    "    return umap_embeddings"
   ]
  },
  {
   "cell_type": "code",
   "execution_count": 117,
   "id": "a0df4e10",
   "metadata": {
    "scrolled": true
   },
   "outputs": [
    {
     "name": "stderr",
     "output_type": "stream",
     "text": [
      "100%|████████████████████████████████████████████████████████████████████████████████| 187/187 [01:47<00:00,  1.73it/s]\n"
     ]
    }
   ],
   "source": [
    "projected_dataset_embeddings = project_embeddings(embeddings, umap_transform)\n",
    "\n",
    "# Save the embedding to a file using joblib\n",
    "embedding_file = \"embedding.umap\"\n",
    "joblib.dump(projected_dataset_embeddings, embedding_file)\n",
    "\n",
    "# Load the saved embedding from the file\n",
    "embedding_file = \"embedding.umap\"\n",
    "projected_dataset_embeddings = joblib.load(embedding_file)"
   ]
  },
  {
   "cell_type": "code",
   "execution_count": 156,
   "id": "58ce75d1",
   "metadata": {
    "scrolled": true
   },
   "outputs": [
    {
     "name": "stderr",
     "output_type": "stream",
     "text": [
      "100%|████████████████████████████████████████████████████████████████████████████████████| 1/1 [00:00<00:00,  1.96it/s]"
     ]
    },
    {
     "name": "stdout",
     "output_type": "stream",
     "text": [
      "**********\n",
      "Trace: query\n",
      "    |_retrieve ->  0.121006 seconds\n",
      "      |_embedding ->  0.117006 seconds\n",
      "**********\n"
     ]
    },
    {
     "name": "stderr",
     "output_type": "stream",
     "text": [
      "\n",
      "100%|████████████████████████████████████████████████████████████████████████████████████| 5/5 [00:02<00:00,  1.71it/s]\n"
     ]
    }
   ],
   "source": [
    "query = 'Find me all the car names mentioned in the document'\n",
    "\n",
    "query = 'tell me about hobbies of author'\n",
    "\n",
    "query_embedding = embed_model.get_text_embedding_batch([query])\n",
    "projected_original_query_embedding = project_embeddings(query_embedding, umap_transform)\n",
    "\n",
    "retrievals = base_retriever.retrieve(query)\n",
    "\n",
    "retrieved_text = [retrievals[i].text for i in range(len(retrievals))]\n",
    "retrieve_embedding = embed_model.get_text_embedding_batch(retrieved_text)\n",
    "projected_retrieved_embeddings = project_embeddings(retrieve_embedding, umap_transform)"
   ]
  },
  {
   "cell_type": "code",
   "execution_count": 157,
   "id": "f6e5ce78",
   "metadata": {
    "scrolled": true
   },
   "outputs": [
    {
     "data": {
      "text/plain": [
       "Text(0.5, 1.0, 'tell me about hobbies of author')"
      ]
     },
     "execution_count": 157,
     "metadata": {},
     "output_type": "execute_result"
    },
    {
     "data": {
      "image/png": "[encoded data removed]",
      "text/plain": [
       "<Figure size 432x288 with 1 Axes>"
      ]
     },
     "metadata": {
      "needs_background": "light"
     },
     "output_type": "display_data"
    }
   ],
   "source": [
    "# Plot the projected query and retrieved documents in the embedding space\n",
    "plt.figure()\n",
    "plt.scatter(projected_dataset_embeddings[:, 0], projected_dataset_embeddings[:, 1], s=10, color='gray')\n",
    "plt.scatter(projected_retrieved_embeddings[:, 0], projected_retrieved_embeddings[:, 1], s=100, facecolors='none', edgecolors='g')\n",
    "plt.scatter(projected_original_query_embedding[:, 0], projected_original_query_embedding[:, 1], s=150, marker='X', color='r')\n",
    "\n",
    "plt.gca().set_aspect('equal', 'datalim')\n",
    "plt.title(f'{query}')\n",
    "# plt.axis('off')"
   ]
  },
  {
   "cell_type": "code",
   "execution_count": null,
   "id": "c96a407e",
   "metadata": {
    "scrolled": true
   },
   "outputs": [],
   "source": []
  },
  {
   "cell_type": "code",
   "execution_count": 120,
   "id": "824a1872",
   "metadata": {
    "scrolled": true
   },
   "outputs": [],
   "source": [
    "def custom_parse_choice_select_answer_fn(answer: str, num_choices: int, raise_error=False):\n",
    "    # Split the answer into lines\n",
    "    answer_lines = answer.split(\"\\n\")\n",
    "    answer_nums = []\n",
    "    answer_relevances = []       \n",
    "\n",
    "    doc_pattern = r'Doc: (\\d+)'\n",
    "    relevance_pattern = r'Relevance: (\\d+)'\n",
    "\n",
    "    document_numbers = []\n",
    "    relevance_scores = []\n",
    "\n",
    "    for line in answer:\n",
    "        doc_match = re.search(doc_pattern, line)\n",
    "        if doc_match:\n",
    "            document_number = int(doc_match.group(1))\n",
    "            document_numbers.append(document_number)\n",
    "\n",
    "            relevance_match = re.search(relevance_pattern, line)\n",
    "            if relevance_match:\n",
    "                relevance_score = int(relevance_match.group(1))\n",
    "                relevance_scores.append(relevance_score)\n",
    "            else:\n",
    "                relevance_scores.append(0)\n",
    "\n",
    "    print('\\n--------------------')\n",
    "    \n",
    "    print(\"Document Numbers:\", document_numbers)\n",
    "    print(\"Relevance Scores:\", relevance_scores)\n",
    "    answer_nums = document_numbers\n",
    "    answer_relevances = relevance_scores\n",
    "        \n",
    "    print(answer)\n",
    "    print(answer_nums)\n",
    "    print(answer_relevances)\n",
    "\n",
    "    return answer_nums, answer_relevances"
   ]
  },
  {
   "cell_type": "code",
   "execution_count": null,
   "id": "d1188476",
   "metadata": {
    "scrolled": true
   },
   "outputs": [],
   "source": []
  },
  {
   "cell_type": "code",
   "execution_count": 121,
   "id": "6a6cf5c5",
   "metadata": {
    "scrolled": true
   },
   "outputs": [
    {
     "name": "stderr",
     "output_type": "stream",
     "text": [
      "100%|████████████████████████████████████████████████████████████████████████████████████| 1/1 [00:00<00:00,  1.90it/s]\n"
     ]
    }
   ],
   "source": [
    "# query = 'Find me all the car names mentioned in the document'\n",
    "\n",
    "query = 'tell me about hobbies of author'\n",
    "\n",
    "query_embedding = embed_model.get_text_embedding_batch([query])\n",
    "projected_original_query_embedding = project_embeddings(query_embedding, umap_transform)"
   ]
  },
  {
   "cell_type": "code",
   "execution_count": 122,
   "id": "c726919d",
   "metadata": {
    "scrolled": true
   },
   "outputs": [
    {
     "name": "stdout",
     "output_type": "stream",
     "text": [
      "**********\n",
      "Trace: query\n",
      "    |_retrieve ->  0.020073 seconds\n",
      "      |_embedding ->  0.01708 seconds\n",
      "**********\n"
     ]
    },
    {
     "name": "stderr",
     "output_type": "stream",
     "text": [
      "100%|████████████████████████████████████████████████████████████████████████████████████| 5/5 [00:02<00:00,  1.92it/s]\n"
     ]
    }
   ],
   "source": [
    "retrievals = base_retriever.retrieve(query)\n",
    "\n",
    "retrieved_text = [retrievals[i].text for i in range(len(retrievals))]\n",
    "retrieve_embedding = embed_model.get_text_embedding_batch(retrieved_text)\n",
    "projected_retrieved_embeddings = project_embeddings(retrieve_embedding, umap_transform)"
   ]
  },
  {
   "cell_type": "code",
   "execution_count": 123,
   "id": "0014e760",
   "metadata": {
    "scrolled": true
   },
   "outputs": [],
   "source": [
    "def custom_parse_choice_select_answer_fn(answer: str, num_choices: int, raise_error=False):\n",
    "    # Split the answer into lines\n",
    "    answer_lines = answer.split(\"\\n\")\n",
    "    answer_nums = []\n",
    "    answer_relevances = []       \n",
    "\n",
    "    doc_pattern = r'Document (\\d+)'\n",
    "    relevance_pattern = r'(\\d+)/10'\n",
    "\n",
    "    document_numbers = []\n",
    "    relevance_scores = []\n",
    "\n",
    "    for line in answer_lines:\n",
    "        doc_match = re.search(doc_pattern, line)\n",
    "        if doc_match:\n",
    "            document_number = int(doc_match.group(1))\n",
    "            document_numbers.append(document_number)\n",
    "\n",
    "            relevance_match = re.search(relevance_pattern, line)\n",
    "            if relevance_match:\n",
    "                relevance_score = int(relevance_match.group(1))\n",
    "                relevance_scores.append(relevance_score)\n",
    "            else:\n",
    "                relevance_scores.append(0)\n",
    "#         print('\\n--------------------')\n",
    "#         print(line)\n",
    "\n",
    "    print('\\n--------------------')\n",
    "\n",
    "    answer_nums = document_numbers\n",
    "    answer_relevances = relevance_scores\n",
    "    \n",
    "    # Sort answer_relevances in descending order and get the corresponding sorted indices\n",
    "    sorted_indices = sorted(range(len(answer_relevances)), key=lambda i: answer_relevances[i], reverse=True)\n",
    "\n",
    "    # Sort answer_nums based on the sorted indices of answer_relevances\n",
    "    answer_nums = [answer_nums[i] for i in sorted_indices]\n",
    "\n",
    "    # Sort answer_relevances in descending order\n",
    "    answer_relevances = sorted(answer_relevances, reverse=True)\n",
    "        \n",
    "    print(answer)\n",
    "    print(answer_nums)\n",
    "    print(answer_relevances)\n",
    "\n",
    "    return answer_nums, answer_relevances"
   ]
  },
  {
   "cell_type": "code",
   "execution_count": 130,
   "id": "d76e6831",
   "metadata": {
    "scrolled": true
   },
   "outputs": [],
   "source": [
    "A = LLMRerank(\n",
    "            choice_batch_size=5,\n",
    "            top_n=5,\n",
    "            parse_choice_select_answer_fn=custom_parse_choice_select_answer_fn)\n",
    "    \n",
    "    \n",
    "A.choice_select_prompt.template = '''[INST]<<SYS>>\n",
    "You are helpful assistant who rates the relevancy of given context based on query asked.\n",
    "GIve relevance score from 1 to 10 with 10 being very relevant. No need to give answer to question.\n",
    "If particular document answers the query than it has higher relevance otherwise it will have lower relevance.\n",
    "Just tell me the relevance score.. ORDER the documents from most relevant to least relevant.<</SYS>>\n",
    "Sanmple question and answer format - \n",
    "\n",
    "Doc 1:<context 1>\n",
    "Doc 2:<context 24>\n",
    "Question: <question>\n",
    "Answer:\n",
    "Doc: 2, Relevance: 9/10\n",
    "Doc: 3, Relevance: 7/10\n",
    "Doc: 4, Relevance: 4/10\n",
    "Doc: 1, Relevance: 3/10\n",
    "\n",
    "STRICTLY follow the above \n",
    "format and order the documents in descending order of relevance.\n",
    "ie answer as - \n",
    "Document: <number>, Relevance: <score>\n",
    "\n",
    "Rememebr to answer in the above format only - Document number and relevance score. Nothing else.\n",
    "\n",
    "Output only Document number and Relevance score as shown above.\n",
    "\n",
    "--------------------------------\n",
    "\n",
    "Let's try this now: \n",
    "\n",
    "{context_str}\n",
    "\n",
    "Below is the question. Give relevance score for each of the document based on the question.\n",
    "\n",
    "Question: {query_str}\n",
    "Answer:\n",
    "[/INST]'''"
   ]
  },
  {
   "cell_type": "code",
   "execution_count": 131,
   "id": "70976c0f",
   "metadata": {
    "scrolled": false
   },
   "outputs": [
    {
     "name": "stdout",
     "output_type": "stream",
     "text": [
      "**********\n",
      "Trace: query\n",
      "    |_retrieve ->  0.052275 seconds\n",
      "      |_embedding ->  0.046274 seconds\n",
      "**********\n"
     ]
    },
    {
     "name": "stderr",
     "output_type": "stream",
     "text": [
      "Llama.generate: prefix-match hit\n",
      "\n",
      "llama_print_timings:        load time =     531.22 ms\n",
      "llama_print_timings:      sample time =      40.12 ms /   400 runs   (    0.10 ms per token,  9970.34 tokens per second)\n",
      "llama_print_timings: prompt eval time =    2369.01 ms /  3302 tokens (    0.72 ms per token,  1393.83 tokens per second)\n",
      "llama_print_timings:        eval time =   10884.54 ms /   399 runs   (   27.28 ms per token,    36.66 tokens per second)\n",
      "llama_print_timings:       total time =   14070.25 ms /  3701 tokens\n",
      "Llama.generate: prefix-match hit\n"
     ]
    },
    {
     "name": "stdout",
     "output_type": "stream",
     "text": [
      "\n",
      "--------------------\n",
      "Document Numbers: [1, 1, 2, 2, 3, 3, 4, 4]\n",
      "Relevance Scores: [9, 0, 7, 0, 6, 0, 8, 0]\n",
      "  I can certainly help you with that! Based on the provided documents, here are the relevance scores for each document:\n",
      "Document 1: Relevance score = 9/10\n",
      "The document provides information about the author's personal experience with running and their preparation for a marathon race. The author mentions their goal of completing the race in under 4 hours, which is directly related to the question asked. Therefore, Document 1 is highly relevant to the question.\n",
      "Document 2: Relevance score = 7/10\n",
      "While Document 2 does mention the author's running experience and their preparation for a marathon race, it does not provide specific details about their fastest full marathon time or the number of marathons they have ran. Therefore, the relevance score for Document 2 is slightly lower than Document 1.\n",
      "Document 3: Relevance score = 6/10\n",
      "Document 3 provides some personal insights and experiences related to running, but it does not directly address the question asked. The author mentions their past achievements in running and their struggles with consistency, but they do not provide any specific information about their fastest full marathon time or the number of marathons they have ran. Therefore, the relevance score for Document 3 is lower than the other two documents.\n",
      "Document 4: Relevance score = 8/10\n",
      "Document 4 provides information about the author's running routine and their experience with running long distances. The author mentions their success in completing two consecutive 10 km runs and their determination to continue running daily for a month. While the document does not provide specific details about the author's fastest full marathon time or the number of marathons they have ran, it is highly relevant to the question asked due to its focus on the author's running routine and experience.\n",
      "[1, 4, 2, 3, 1, 2, 3, 4]\n",
      "[9, 8, 7, 6, 0, 0, 0, 0]\n"
     ]
    },
    {
     "name": "stderr",
     "output_type": "stream",
     "text": [
      "\n",
      "llama_print_timings:        load time =     531.22 ms\n",
      "llama_print_timings:      sample time =      30.69 ms /   311 runs   (    0.10 ms per token, 10132.93 tokens per second)\n",
      "llama_print_timings: prompt eval time =    2259.23 ms /  3386 tokens (    0.67 ms per token,  1498.74 tokens per second)\n",
      "llama_print_timings:        eval time =    8494.73 ms /   310 runs   (   27.40 ms per token,    36.49 tokens per second)\n",
      "llama_print_timings:       total time =   11374.67 ms /  3696 tokens\n",
      "Llama.generate: prefix-match hit\n"
     ]
    },
    {
     "name": "stdout",
     "output_type": "stream",
     "text": [
      "\n",
      "--------------------\n",
      "Document Numbers: [1, 2, 1, 3, 4, 5]\n",
      "Relevance Scores: [9, 7, 0, 6, 5, 8]\n",
      "  I can certainly help you with that! Based on the provided documents, here are the relevance scores for each document:\n",
      "Document 1: Relevance score = 9/10\n",
      "The document contains information about the author's marathon journey, including their personal best time and the number of marathons they have run. This information is highly relevant to the question asked.\n",
      "Document 2: Relevance score = 7/10\n",
      "The document provides some personal information about the author, including their location and the distance they have run in a marathon. While this information is related to the question, it is not as directly relevant as the information in Document 1.\n",
      "Document 3: Relevance score = 6/10\n",
      "The document contains some general tips for improving running speed and endurance, but it does not directly address the question asked.\n",
      "Document 4: Relevance score = 5/10\n",
      "The document is a personal reflection on the author's running journey and does not provide any direct answers to the question asked.\n",
      "Document 5: Relevance score = 8/10\n",
      "The document provides information about the author's training and racing history, including their personal best time and the number of marathons they have run. This information is highly relevant to the question asked.\n",
      "Overall, the most relevant documents to the question are Documents 1 and 5, which provide direct answers to the question asked.\n",
      "[1, 5, 2, 3, 4, 1]\n",
      "[9, 8, 7, 6, 5, 0]\n"
     ]
    },
    {
     "name": "stderr",
     "output_type": "stream",
     "text": [
      "\n",
      "llama_print_timings:        load time =     531.22 ms\n",
      "llama_print_timings:      sample time =      39.72 ms /   400 runs   (    0.10 ms per token, 10070.24 tokens per second)\n",
      "llama_print_timings: prompt eval time =    2202.35 ms /  3264 tokens (    0.67 ms per token,  1482.06 tokens per second)\n",
      "llama_print_timings:        eval time =   10921.15 ms /   399 runs   (   27.37 ms per token,    36.53 tokens per second)\n",
      "llama_print_timings:       total time =   13950.01 ms /  3663 tokens\n",
      "Llama.generate: prefix-match hit\n"
     ]
    },
    {
     "name": "stdout",
     "output_type": "stream",
     "text": [
      "\n",
      "--------------------\n",
      "Document Numbers: [1, 2, 1, 3, 4, 5]\n",
      "Relevance Scores: [9, 7, 0, 6, 5, 4]\n",
      "  I'm just an AI assistant, I don't have personal opinions or experiences, but I can provide you with the relevance scores for each document based on the question you provided:\n",
      "Document 1: Relevance score = 9/10\n",
      "The document mentions the author's struggles with asthma and how they overcame it through running. The author also mentions their first marathon finish time, which is 5:15 hours. Therefore, this document is highly relevant to the question.\n",
      "Document 2: Relevance score = 7/10\n",
      "The document mentions the author's experience with running and how they improved their running speed and endurance. However, it does not mention the author's full marathon time. Therefore, this document is slightly less relevant to the question compared to Document 1.\n",
      "Document 3: Relevance score = 6/10\n",
      "The document mentions the author's mental strength and how they use it to keep moving forward. While the document does mention the author's running experience, it does not provide any specific information about their full marathon time. Therefore, this document is less relevant to the question compared to Documents 1 and 2.\n",
      "Document 4: Relevance score = 5/10\n",
      "The document mentions the author's experience with yoga and how it has helped them with their running. However, it does not provide any information about the author's full marathon time. Therefore, this document is less relevant to the question compared to Documents 1 and 2.\n",
      "Document 5: Relevance score = 4/10\n",
      "The document does not mention anything about the author's running experience or full marathon time. Therefore, this document is the least relevant to the question compared to the other documents.\n",
      "Based on these relevance scores, I would recommend foc\n",
      "[1, 2, 3, 4, 5, 1]\n",
      "[9, 7, 6, 5, 4, 0]\n"
     ]
    },
    {
     "name": "stderr",
     "output_type": "stream",
     "text": [
      "\n",
      "llama_print_timings:        load time =     531.22 ms\n",
      "llama_print_timings:      sample time =      34.24 ms /   347 runs   (    0.10 ms per token, 10133.46 tokens per second)\n",
      "llama_print_timings: prompt eval time =    2292.44 ms /  3352 tokens (    0.68 ms per token,  1462.20 tokens per second)\n",
      "llama_print_timings:        eval time =    9511.15 ms /   346 runs   (   27.49 ms per token,    36.38 tokens per second)\n",
      "llama_print_timings:       total time =   12503.62 ms /  3698 tokens\n"
     ]
    },
    {
     "name": "stdout",
     "output_type": "stream",
     "text": [
      "\n",
      "--------------------\n",
      "Document Numbers: [1, 2, 3, 4, 5, 3]\n",
      "Relevance Scores: [9, 7, 6, 4, 8, 0]\n",
      "  I can certainly help you with that! Based on the information provided in the documents, here are the relevance scores for each document:\n",
      "Document 1: Relevance score = 9/10\n",
      "The document mentions the author's experience with running and their goal of completing a full marathon within three hours. This is directly related to the question asked, making it highly relevant.\n",
      "Document 2: Relevance score = 7/10\n",
      "The document mentions the author's experience with running and their goal of completing a full marathon within three hours. However, it also includes information about the author's personal life and interests, which is less relevant to the question asked.\n",
      "Document 3: Relevance score = 6/10\n",
      "The document mentions the author's experience with running and their goal of completing a full marathon within three hours. However, it also includes information about the author's personal life and interests, which is less relevant to the question asked.\n",
      "Document 4: Relevance score = 4/10\n",
      "The document does not mention anything related to the author's running experience or full marathon time, making it less relevant to the question asked.\n",
      "Document 5: Relevance score = 8/10\n",
      "The document mentions the author's experience with running and their goal of completing a full marathon within three hours. It also includes information about the author's personal life and interests, which is less relevant to the question asked.\n",
      "Overall, Documents 1 and 5 are the most relevant to the question asked, followed by Document 3.\n",
      "[1, 5, 2, 3, 4, 3]\n",
      "[9, 8, 7, 6, 4, 0]\n"
     ]
    },
    {
     "name": "stderr",
     "output_type": "stream",
     "text": [
      "100%|████████████████████████████████████████████████████████████████████████████████████| 5/5 [00:02<00:00,  1.73it/s]\n"
     ]
    }
   ],
   "source": [
    "base_retriever_2 = base_index.as_retriever(similarity_top_k=20)\n",
    "\n",
    "query_bundle = QueryBundle(query)\n",
    "\n",
    "retrievals_rerank = base_retriever_2.retrieve(query_bundle)\n",
    "\n",
    "reranker = A\n",
    "\n",
    "retrievals_rerank = reranker.postprocess_nodes(retrievals_rerank, query_bundle)\n",
    "\n",
    "retrieved_text_rerank = [retrievals_rerank[i].text for i in range(len(retrievals_rerank))]\n",
    "retrieve_embedding_rerank = embed_model.get_text_embedding_batch(retrieved_text_rerank)\n",
    "projected_retrieved_embeddings_rerank = project_embeddings(retrieve_embedding_rerank, umap_transform)"
   ]
  },
  {
   "cell_type": "code",
   "execution_count": 132,
   "id": "83e3b20e",
   "metadata": {
    "scrolled": true
   },
   "outputs": [
    {
     "data": {
      "image/png": "[encoded data removed]",
      "text/plain": [
       "<Figure size 864x432 with 2 Axes>"
      ]
     },
     "metadata": {
      "needs_background": "light"
     },
     "output_type": "display_data"
    }
   ],
   "source": [
    "# Plot the projected query and retrieved documents in the embedding space\n",
    "plt.figure(figsize=(12, 6))\n",
    "\n",
    "# Subplot for the original query and retrieved embeddings\n",
    "plt.subplot(1, 2, 1)\n",
    "plt.scatter(projected_dataset_embeddings[:, 0], projected_dataset_embeddings[:, 1], s=10, color='gray')\n",
    "plt.scatter(projected_retrieved_embeddings[:, 0], projected_retrieved_embeddings[:, 1], s=100, facecolors='none', edgecolors='g')\n",
    "plt.scatter(projected_original_query_embedding[:, 0], projected_original_query_embedding[:, 1], s=150, marker='X', color='r')\n",
    "plt.gca().set_aspect('equal', 'datalim')\n",
    "plt.title('Original Query and Retrieved Embeddings')\n",
    "\n",
    "# Subplot for the augmented query embeddings\n",
    "plt.subplot(1, 2, 2)\n",
    "plt.scatter(projected_dataset_embeddings[:, 0], projected_dataset_embeddings[:, 1], s=10, color='gray')\n",
    "plt.scatter(projected_retrieved_embeddings_rerank[:, 0], projected_retrieved_embeddings_rerank[:, 1], s=100, facecolors='none', edgecolors='g')\n",
    "plt.scatter(projected_original_query_embedding[:, 0], projected_original_query_embedding[:, 1], s=150, marker='X', color='r')\n",
    "plt.gca().set_aspect('equal', 'datalim')\n",
    "plt.title('Reranked-Original Query and Retrieved Embeddings')\n",
    "\n",
    "plt.tight_layout()\n",
    "plt.show()"
   ]
  },
  {
   "cell_type": "code",
   "execution_count": null,
   "id": "703ea3fe",
   "metadata": {
    "scrolled": true
   },
   "outputs": [],
   "source": []
  },
  {
   "cell_type": "code",
   "execution_count": 133,
   "id": "7d524520",
   "metadata": {
    "scrolled": true
   },
   "outputs": [],
   "source": [
    "new_summary_tmpl_str = (\n",
    "    '''[INST]<<SYS>> You are give bunch of context text and asked a query.\\\n",
    "Answer the query based on documents anddo not bring in outside knowledge.\\\n",
    "Be precise and concise and crisp.<</SYS>>\\n\n",
    "Context information from multiple sources is below.\\n\n",
    "---------------------\\n\n",
    "{context_str}\\n\n",
    "---------------------\\n\n",
    "Given the information from multiple sources and not prior knowledge, answer the query.\\n\n",
    "Query: {query_str}\\n\n",
    "Answer: \\n\n",
    "[/INST]'''\n",
    ")\n",
    "new_summary_tmpl = PromptTemplate(new_summary_tmpl_str)\n",
    "                                "
   ]
  },
  {
   "cell_type": "code",
   "execution_count": 143,
   "id": "64d01c57",
   "metadata": {
    "scrolled": true
   },
   "outputs": [],
   "source": [
    "query = 'Tell me about fitness of the author from the documents given.'\n",
    "\n",
    "query = 'Fetch me all the hobbies that author has been involved in..'\n",
    "\n",
    "query = 'Fetch me all the book names/titles mentioned in the documents given.'\n",
    "\n",
    "query = 'What is the fastest full marathon time of the author? Can you tell me how many marathons the author has ran ?'\n",
    "\n",
    "query = 'Which all cities has the author travel too? Fetch all the city names mentioned.'\n",
    "\n",
    "# query = 'Which all car names in the document?'\n",
    "\n",
    "# query = 'Tell me about authors philosophy of life. Based on content given, what do you think are strengths of author?\\\n",
    "# Can this person be a CEO in future?'"
   ]
  },
  {
   "cell_type": "code",
   "execution_count": 144,
   "id": "4cb9b435",
   "metadata": {
    "scrolled": true
   },
   "outputs": [
    {
     "name": "stderr",
     "output_type": "stream",
     "text": [
      "Llama.generate: prefix-match hit\n",
      "\n",
      "llama_print_timings:        load time =     531.22 ms\n",
      "llama_print_timings:      sample time =      11.35 ms /   113 runs   (    0.10 ms per token,  9954.19 tokens per second)\n",
      "llama_print_timings: prompt eval time =    2322.33 ms /  3352 tokens (    0.69 ms per token,  1443.38 tokens per second)\n",
      "llama_print_timings:        eval time =    3003.39 ms /   112 runs   (   26.82 ms per token,    37.29 tokens per second)\n",
      "llama_print_timings:       total time =    5543.33 ms /  3464 tokens\n"
     ]
    },
    {
     "name": "stdout",
     "output_type": "stream",
     "text": [
      "**********\n",
      "Trace: query\n",
      "    |_query ->  5.600332 seconds\n",
      "      |_retrieve ->  0.043802 seconds\n",
      "        |_embedding ->  0.039804 seconds\n",
      "      |_synthesize ->  5.55653 seconds\n",
      "        |_templating ->  0.0 seconds\n",
      "        |_llm ->  5.55253 seconds\n",
      "**********\n",
      "  Based on the provided text, the author has traveled to the following cities:\n",
      "\n",
      "1. Mumbai\n",
      "2. Pondicherry\n",
      "3. Chennai\n",
      "4. Lonavala\n",
      "5. Mumbai (twice)\n",
      "6. Bombay (twice)\n",
      "7. Pune\n",
      "\n",
      "Note: The author has mentioned these cities in their text, but it is not clear if they have traveled to all of these cities personally or if they are just mentioning them in their text.\n",
      "---------------------------\n",
      "---------------------------\n"
     ]
    },
    {
     "name": "stderr",
     "output_type": "stream",
     "text": [
      "100%|████████████████████████████████████████████████████████████████████████████████████| 5/5 [00:02<00:00,  1.74it/s]\n"
     ]
    }
   ],
   "source": [
    "query_engine = base_index.as_query_engine(similarity_top_k=5,\n",
    "                                          response_mode=\"tree_summarize\")\n",
    "\n",
    "query_engine.update_prompts(\n",
    "    {\"response_synthesizer:summary_template\": new_summary_tmpl}\n",
    ")\n",
    "\n",
    "response = query_engine.query(query)\n",
    "print(response)\n",
    "\n",
    "print('---------------------------')\n",
    "print('---------------------------')\n",
    "\n",
    "    \n",
    "retrievals = response.source_nodes\n",
    "retrieved_text = [retrievals[i].text for i in range(len(retrievals))]\n",
    "retrieve_embedding = embed_model.get_text_embedding_batch(retrieved_text)\n",
    "projected_retrieved_embeddings = project_embeddings(retrieve_embedding, umap_transform)"
   ]
  },
  {
   "cell_type": "code",
   "execution_count": 145,
   "id": "a4b65397",
   "metadata": {
    "scrolled": true
   },
   "outputs": [],
   "source": [
    "from IPython.display import Markdown, display\n",
    "\n",
    "def display_prompt_dict(prompts_dict):\n",
    "    for k, p in prompts_dict.items():\n",
    "        text_md = f\"**Prompt Key**: {k}<br>\" f\"**Text:** <br>\"\n",
    "        display(Markdown(text_md))\n",
    "        print(p.get_template())\n",
    "        display(Markdown(\"<br><br>\"))"
   ]
  },
  {
   "cell_type": "code",
   "execution_count": 146,
   "id": "830a7604",
   "metadata": {
    "scrolled": true
   },
   "outputs": [],
   "source": [
    "# prompts_dict = query_engine.get_prompts()\n",
    "# display_prompt_dict(prompts_dict)"
   ]
  },
  {
   "cell_type": "code",
   "execution_count": 147,
   "id": "5c7563ee",
   "metadata": {
    "scrolled": false
   },
   "outputs": [
    {
     "name": "stderr",
     "output_type": "stream",
     "text": [
      "Llama.generate: prefix-match hit\n",
      "\n",
      "llama_print_timings:        load time =     531.22 ms\n",
      "llama_print_timings:      sample time =      17.64 ms /   179 runs   (    0.10 ms per token, 10150.27 tokens per second)\n",
      "llama_print_timings: prompt eval time =    2590.40 ms /  3644 tokens (    0.71 ms per token,  1406.73 tokens per second)\n",
      "llama_print_timings:        eval time =    4843.98 ms /   178 runs   (   27.21 ms per token,    36.75 tokens per second)\n",
      "llama_print_timings:       total time =    7793.10 ms /  3822 tokens\n",
      "Llama.generate: prefix-match hit\n"
     ]
    },
    {
     "name": "stdout",
     "output_type": "stream",
     "text": [
      "\n",
      "--------------------\n",
      "Document Numbers: []\n",
      "Relevance Scores: []\n",
      "  I can certainly help you with that! Based on the given documents, here are the cities mentioned:\n",
      "\n",
      "1. Chennai\n",
      "2. Mumbai\n",
      "3. Pondicherry\n",
      "4. Lonavala\n",
      "5. Bombay (Mumbai)\n",
      "6. Sweet Home (Airport)\n",
      "7. Europe (mentioned in the context of the author's trip with parents)\n",
      "8. India (mentioned in the context of the author's dreams coming true)\n",
      "9. Zoomcar (mentioned in the context of the author's trip to Mumbai)\n",
      "10. Bar (mentioned in the context of the author's night ride experiences)\n",
      "\n",
      "Please note that some cities are mentioned multiple times in the documents, but I have listed them only once in the above list.\n",
      "[]\n",
      "[]\n"
     ]
    },
    {
     "name": "stderr",
     "output_type": "stream",
     "text": [
      "\n",
      "llama_print_timings:        load time =     531.22 ms\n",
      "llama_print_timings:      sample time =      24.25 ms /   246 runs   (    0.10 ms per token, 10145.17 tokens per second)\n",
      "llama_print_timings: prompt eval time =    2215.69 ms /  3338 tokens (    0.66 ms per token,  1506.53 tokens per second)\n",
      "llama_print_timings:        eval time =    6662.44 ms /   245 runs   (   27.19 ms per token,    36.77 tokens per second)\n",
      "llama_print_timings:       total time =    9357.34 ms /  3583 tokens\n",
      "Llama.generate: prefix-match hit\n"
     ]
    },
    {
     "name": "stdout",
     "output_type": "stream",
     "text": [
      "\n",
      "--------------------\n",
      "Document Numbers: [1, 2, 3, 4, 5]\n",
      "Relevance Scores: [9, 8, 7, 6, 5]\n",
      "  I'm just an AI assistant, I don't have personal opinions or experiences, but I can certainly help you with your query! Based on the documents provided, here are the cities mentioned:\n",
      "1. Bangalore\n",
      "2. Chennai\n",
      "3. Mumbai\n",
      "4. Pune\n",
      "5. Jammu\n",
      "6. Kashmir\n",
      "7. Gujarat\n",
      "8. Malaysia\n",
      "9. Kolkata\n",
      "\n",
      "The relevance score for each document is based on how many times the city name is mentioned in the document:\n",
      "\n",
      "Document 1: Sanmpt score of 9/10 (Bangalore, Karnataka)\n",
      "Document 2: Sanmpt score of 8/10 (Bangalore, Mumbai)\n",
      "Document 3: Sanmpt score of 7/10 (Pune)\n",
      "Document 4: Sanmpt score of 6/10 (Gujarat)\n",
      "Document 5: Sanmpt score of 5/10 (Mumbai)\n",
      "\n",
      "I hope this helps! Let me know if you have any further questions.\n",
      "[1, 2, 3, 4, 5]\n",
      "[9, 8, 7, 6, 5]\n"
     ]
    },
    {
     "name": "stderr",
     "output_type": "stream",
     "text": [
      "\n",
      "llama_print_timings:        load time =     531.22 ms\n",
      "llama_print_timings:      sample time =      24.52 ms /   247 runs   (    0.10 ms per token, 10072.59 tokens per second)\n",
      "llama_print_timings: prompt eval time =    2251.42 ms /  3374 tokens (    0.67 ms per token,  1498.61 tokens per second)\n",
      "llama_print_timings:        eval time =    6717.11 ms /   246 runs   (   27.31 ms per token,    36.62 tokens per second)\n",
      "llama_print_timings:       total time =    9455.34 ms /  3620 tokens\n",
      "Llama.generate: prefix-match hit\n"
     ]
    },
    {
     "name": "stdout",
     "output_type": "stream",
     "text": [
      "\n",
      "--------------------\n",
      "Document Numbers: [1, 2, 3, 4, 5]\n",
      "Relevance Scores: [9, 7, 6, 8, 5]\n",
      "  I can certainly help you with that! Based on the given documents, here are the cities mentioned:\n",
      "\n",
      "1. Mahindra World City\n",
      "2. Chennai\n",
      "3. Mumbai\n",
      "4. Bangalore\n",
      "5. Pondicherry\n",
      "6. Chengalpattu\n",
      "7. Tindivanam\n",
      "\n",
      "The relevance score for each document is as follows:\n",
      "\n",
      "Document 1: 9/10 (Relevant) - The document mentions Mahindra World City, Chennai, and Pondicherry.\n",
      "Document 2: 7/10 (Relevant) - The document mentions Chennai and Bangalore.\n",
      "Document 3: 6/10 (Relevant) - The document mentions Chennai and Mumbai.\n",
      "Document 4: 8/10 (Relevant) - The document mentions Chennai, Mumbai, and Bangalore.\n",
      "Document 5: 5/10 (Relevant) - The document mentions Chennai and Pondicherry.\n",
      "\n",
      "I hope this helps! Let me know if you have any further questions.\n",
      "[1, 4, 2, 3, 5]\n",
      "[9, 8, 7, 6, 5]\n"
     ]
    },
    {
     "name": "stderr",
     "output_type": "stream",
     "text": [
      "\n",
      "llama_print_timings:        load time =     531.22 ms\n",
      "llama_print_timings:      sample time =      23.65 ms /   230 runs   (    0.10 ms per token,  9723.93 tokens per second)\n",
      "llama_print_timings: prompt eval time =    2197.00 ms /  3272 tokens (    0.67 ms per token,  1489.30 tokens per second)\n",
      "llama_print_timings:        eval time =    6257.43 ms /   229 runs   (   27.33 ms per token,    36.60 tokens per second)\n",
      "llama_print_timings:       total time =    8956.98 ms /  3501 tokens\n",
      "Llama.generate: prefix-match hit\n"
     ]
    },
    {
     "name": "stdout",
     "output_type": "stream",
     "text": [
      "\n",
      "--------------------\n",
      "Document Numbers: [1, 2, 3, 4, 5]\n",
      "Relevance Scores: [9, 7, 6, 5, 4]\n",
      "  I'm just an AI assistant, I don't have personal opinions or experiences, but I can certainly help you with your query! Based on the documents provided, here are the cities mentioned:\n",
      "1. Chennai\n",
      "2. Mumbai\n",
      "3. Bangalore\n",
      "4. Gujarat\n",
      "5. Bombay (presumably Mumbai)\n",
      "6. Kanjur\n",
      "7. Kurla\n",
      "8. BKC (presumably Bandra-Kurla Complex)\n",
      "\n",
      "The relevance score for each document is based on how many city names it mentions:\n",
      "\n",
      "Document 1: 9/10 (mentions all 7 cities)\n",
      "Document 2: 7/10 (mentions 5 cities)\n",
      "Document 3: 6/10 (mentions 4 cities)\n",
      "Document 4: 5/10 (mentions 3 cities)\n",
      "Document 5: 4/10 (mentions 2 cities)\n",
      "\n",
      "I hope this helps! Let me know if you have any further questions.\n",
      "[1, 2, 3, 4, 5]\n",
      "[9, 7, 6, 5, 4]\n"
     ]
    },
    {
     "name": "stderr",
     "output_type": "stream",
     "text": [
      "\n",
      "llama_print_timings:        load time =     531.22 ms\n",
      "llama_print_timings:      sample time =      11.69 ms /   115 runs   (    0.10 ms per token,  9839.15 tokens per second)\n",
      "llama_print_timings: prompt eval time =    2220.78 ms /  3358 tokens (    0.66 ms per token,  1512.08 tokens per second)\n",
      "llama_print_timings:        eval time =    3067.68 ms /   114 runs   (   26.91 ms per token,    37.16 tokens per second)\n",
      "llama_print_timings:       total time =    5514.54 ms /  3472 tokens\n"
     ]
    },
    {
     "name": "stdout",
     "output_type": "stream",
     "text": [
      "**********\n",
      "Trace: query\n",
      "    |_query ->  41.153619 seconds\n",
      "      |_retrieve ->  0.015 seconds\n",
      "        |_embedding ->  0.009999 seconds\n",
      "      |_templating ->  0.0 seconds\n",
      "      |_llm ->  7.802595 seconds\n",
      "      |_templating ->  0.0 seconds\n",
      "      |_llm ->  9.369834 seconds\n",
      "      |_templating ->  0.0 seconds\n",
      "      |_llm ->  9.466347 seconds\n",
      "      |_templating ->  0.0 seconds\n",
      "      |_llm ->  8.969359 seconds\n",
      "      |_synthesize ->  5.52661 seconds\n",
      "        |_templating ->  0.0 seconds\n",
      "        |_llm ->  5.522602 seconds\n",
      "**********\n",
      "  Based on the provided text, the author has traveled to the following cities:\n",
      "\n",
      "1. Bangalore\n",
      "2. Chennai\n",
      "3. Mumbai\n",
      "4. Pondicherry\n",
      "5. Mahindra World City\n",
      "6. Zuca (mentioned as a chocolate shop)\n",
      "7. Promenade\n",
      "8. Mahabalipura (mentioned as a lunch spot)\n",
      "\n",
      "These cities are mentioned in the text as places the author has visited or driven through during their trips.\n",
      "---------------------------\n",
      "---------------------------\n"
     ]
    },
    {
     "name": "stderr",
     "output_type": "stream",
     "text": [
      "100%|████████████████████████████████████████████████████████████████████████████████████| 5/5 [00:02<00:00,  1.91it/s]\n"
     ]
    }
   ],
   "source": [
    "query_engine = base_index.as_query_engine(\n",
    "    similarity_top_k=20,\n",
    "    node_postprocessors=[A],\n",
    "    response_mode=\"tree_summarize\",\n",
    ")\n",
    "\n",
    "query_engine.update_prompts(\n",
    "    {\"response_synthesizer:summary_template\": new_summary_tmpl}\n",
    ")\n",
    "\n",
    "response_reranked = query_engine.query(query)\n",
    "\n",
    "print(response_reranked)\n",
    "\n",
    "print('---------------------------')\n",
    "print('---------------------------')\n",
    "\n",
    "\n",
    "retrievals_rerank = response_reranked.source_nodes\n",
    "retrieved_text_rerank = [retrievals_rerank[i].text for i in range(len(retrievals_rerank))]\n",
    "retrieve_embedding_rerank = embed_model.get_text_embedding_batch(retrieved_text_rerank)\n",
    "projected_retrieved_embeddings_rerank = project_embeddings(retrieve_embedding_rerank, umap_transform)"
   ]
  },
  {
   "cell_type": "code",
   "execution_count": 148,
   "id": "f24cb3bd",
   "metadata": {
    "scrolled": true
   },
   "outputs": [],
   "source": [
    "# rompts_dict = query_engine.get_prompts()\n",
    "# display_prompt_dict(prompts_dict)"
   ]
  },
  {
   "cell_type": "code",
   "execution_count": 149,
   "id": "7425c031",
   "metadata": {
    "scrolled": true
   },
   "outputs": [
    {
     "data": {
      "image/png": "[encoded data removed]",
      "text/plain": [
       "<Figure size 864x432 with 2 Axes>"
      ]
     },
     "metadata": {
      "needs_background": "light"
     },
     "output_type": "display_data"
    }
   ],
   "source": [
    "# Plot the projected query and retrieved documents in the embedding space\n",
    "plt.figure(figsize=(12, 6))\n",
    "\n",
    "# Subplot for the original query and retrieved embeddings\n",
    "plt.subplot(1, 2, 1)\n",
    "plt.scatter(projected_dataset_embeddings[:, 0], projected_dataset_embeddings[:, 1], s=10, color='gray')\n",
    "plt.scatter(projected_retrieved_embeddings[:, 0], projected_retrieved_embeddings[:, 1], s=100, facecolors='none', edgecolors='g')\n",
    "plt.scatter(projected_original_query_embedding[:, 0], projected_original_query_embedding[:, 1], s=150, marker='X', color='r')\n",
    "plt.gca().set_aspect('equal', 'datalim')\n",
    "plt.title('Original Query and Retrieved Embeddings')\n",
    "\n",
    "# Subplot for the augmented query embeddings\n",
    "plt.subplot(1, 2, 2)\n",
    "plt.scatter(projected_dataset_embeddings[:, 0], projected_dataset_embeddings[:, 1], s=10, color='gray')\n",
    "plt.scatter(projected_retrieved_embeddings_rerank[:, 0], projected_retrieved_embeddings_rerank[:, 1], s=100, facecolors='none', edgecolors='g')\n",
    "plt.scatter(projected_original_query_embedding[:, 0], projected_original_query_embedding[:, 1], s=150, marker='X', color='r')\n",
    "plt.gca().set_aspect('equal', 'datalim')\n",
    "plt.title('Reranked-Original Query and Retrieved Embeddings')\n",
    "\n",
    "plt.tight_layout()\n",
    "plt.show()"
   ]
  },
  {
   "cell_type": "code",
   "execution_count": 158,
   "id": "35fde8d7",
   "metadata": {
    "scrolled": false
   },
   "outputs": [
    {
     "name": "stdout",
     "output_type": "stream",
     "text": [
      "tell me about hobbies of author\n",
      "------------------------\n",
      "NON RERANKER RESPONSE\n",
      "  Based on the provided text, the author has traveled to the following cities:\n",
      "\n",
      "1. Mumbai\n",
      "2. Pondicherry\n",
      "3. Chennai\n",
      "4. Lonavala\n",
      "5. Mumbai (twice)\n",
      "6. Bombay (twice)\n",
      "7. Pune\n",
      "\n",
      "Note: The author has mentioned these cities in their text, but it is not clear if they have traveled to all of these cities personally or if they are just mentioning them in their text.\n",
      "------------------------\n",
      "RERANKER RESPONSE\n",
      "  Based on the provided text, the author has traveled to the following cities:\n",
      "\n",
      "1. Bangalore\n",
      "2. Chennai\n",
      "3. Mumbai\n",
      "4. Pondicherry\n",
      "5. Mahindra World City\n",
      "6. Zuca (mentioned as a chocolate shop)\n",
      "7. Promenade\n",
      "8. Mahabalipura (mentioned as a lunch spot)\n",
      "\n",
      "These cities are mentioned in the text as places the author has visited or driven through during their trips.\n"
     ]
    }
   ],
   "source": [
    "print(query)\n",
    "print('------------------------')\n",
    "print('NON RERANKER RESPONSE')\n",
    "print(response)\n",
    "print('------------------------')\n",
    "print('RERANKER RESPONSE')\n",
    "print(response_reranked)"
   ]
  },
  {
   "cell_type": "code",
   "execution_count": null,
   "id": "f5401cf8",
   "metadata": {
    "scrolled": true
   },
   "outputs": [],
   "source": []
  },
  {
   "cell_type": "code",
   "execution_count": null,
   "id": "ec1a4d01",
   "metadata": {
    "scrolled": true
   },
   "outputs": [],
   "source": []
  },
  {
   "cell_type": "code",
   "execution_count": null,
   "id": "e202a339",
   "metadata": {
    "scrolled": true
   },
   "outputs": [],
   "source": []
  },
  {
   "cell_type": "code",
   "execution_count": null,
   "id": "c3e578a2",
   "metadata": {
    "scrolled": true
   },
   "outputs": [],
   "source": []
  },
  {
   "cell_type": "code",
   "execution_count": null,
   "id": "4966d0d5",
   "metadata": {
    "scrolled": true
   },
   "outputs": [],
   "source": []
  }
 ],
 "metadata": {
  "kernelspec": {
   "display_name": "Python 3 (ipykernel)",
   "language": "python",
   "name": "python3"
  },
  "language_info": {
   "codemirror_mode": {
    "name": "ipython",
    "version": 3
   },
   "file_extension": ".py",
   "mimetype": "text/x-python",
   "name": "python",
   "nbconvert_exporter": "python",
   "pygments_lexer": "ipython3",
   "version": "3.9.7"
  }
 },
 "nbformat": 4,
 "nbformat_minor": 5
}
