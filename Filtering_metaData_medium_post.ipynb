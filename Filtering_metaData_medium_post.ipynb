{
 "cells": [
  {
   "cell_type": "code",
   "execution_count": 30,
   "id": "initial_id",
   "metadata": {},
   "outputs": [],
   "source": [
    "import warnings\n",
    "warnings.filterwarnings(\"ignore\")\n",
    "import os\n",
    "os.environ['CURL_CA_BUNDLE'] = \"\""
   ]
  },
  {
   "cell_type": "code",
   "execution_count": 31,
   "id": "ff420d88",
   "metadata": {},
   "outputs": [],
   "source": [
    "from llama_index.llms.ollama import Ollama\n",
    "\n",
    "# llm = Ollama(model=\"llama3:8b-instruct-q8_0\", request_timeout=120.0, temperature=0.1)\n",
    "llm = Ollama(model=\"llama3.1:8b-instruct-q8_0\", request_timeout=150.0, temperature=0.1)\n",
    "\n",
    "llm.temperature = 0.1"
   ]
  },
  {
   "cell_type": "code",
   "execution_count": 32,
   "id": "4c11aa9f",
   "metadata": {},
   "outputs": [],
   "source": [
    "from llama_index.embeddings.huggingface import HuggingFaceEmbedding\n",
    "\n",
    "embed_model = HuggingFaceEmbedding()"
   ]
  },
  {
   "cell_type": "code",
   "execution_count": 33,
   "id": "2470ee91",
   "metadata": {},
   "outputs": [],
   "source": [
    "from llama_index.core import Settings\n",
    "from llama_index.core import PromptTemplate\n",
    "from llama_index.core.agent import ReActAgent\n",
    "from llama_index.core.tools import QueryEngineTool, ToolMetadata\n",
    "from llama_index.core import SimpleDirectoryReader\n",
    "from llama_index.core.node_parser import SentenceSplitter\n",
    "from llama_index.core.vector_stores import MetadataFilters\n",
    "from llama_index.core import VectorStoreIndex\n",
    "from llama_index.core.vector_stores.types import ExactMatchFilter, MetadataFilters, MetadataFilter\n",
    "from llama_index.core.vector_stores import FilterOperator, FilterCondition\n",
    "from typing import List, Optional\n",
    "from llama_index.core.vector_stores import FilterCondition\n",
    "from llama_index.core.tools import FunctionTool\n",
    "\n",
    "Settings.llm = llm\n",
    "Settings.embed_model = embed_model"
   ]
  },
  {
   "cell_type": "code",
   "execution_count": 34,
   "id": "de12358a1fce63ce",
   "metadata": {},
   "outputs": [],
   "source": [
    "import nest_asyncio\n",
    "\n",
    "nest_asyncio.apply()"
   ]
  },
  {
   "cell_type": "code",
   "execution_count": null,
   "id": "0be72231",
   "metadata": {},
   "outputs": [],
   "source": []
  },
  {
   "cell_type": "code",
   "execution_count": 35,
   "id": "45b5b6bd",
   "metadata": {},
   "outputs": [],
   "source": [
    "transcript_directory = r\"./data/Sandy_blogspot_pdf//\"\n",
    "\n",
    "# Add filename, post_title and post_year as metadata to each chunk associated with a document/transcript\n",
    "filename_fn = lambda filename: {'post_title': os.path.splitext(os.path.basename(filename))[0].split('__')[0],\n",
    "                               'post_year': os.path.splitext(os.path.basename(filename))[0].split('__')[1]}\n",
    "\n",
    "documents = SimpleDirectoryReader(transcript_directory, filename_as_id=True, \n",
    "                                  file_metadata=filename_fn).load_data()"
   ]
  },
  {
   "cell_type": "code",
   "execution_count": 36,
   "id": "a3438b59",
   "metadata": {},
   "outputs": [
    {
     "data": {
      "text/plain": [
       "{'page_label': '1',\n",
       " 'file_name': 'A decade of transition__2020.pdf',\n",
       " 'post_title': 'A decade of transition',\n",
       " 'post_year': '2020'}"
      ]
     },
     "execution_count": 36,
     "metadata": {},
     "output_type": "execute_result"
    }
   ],
   "source": [
    "documents[12].metadata\n",
    "# ----------------------\n",
    "# {'page_label': '1',\n",
    "#  'file_name': 'A decade of transition__2020.pdf',\n",
    "#  'post_title': 'A decade of transition',\n",
    "#  'post_year': '2020'}"
   ]
  },
  {
   "cell_type": "code",
   "execution_count": null,
   "id": "6bc7a236",
   "metadata": {},
   "outputs": [],
   "source": []
  },
  {
   "cell_type": "code",
   "execution_count": 37,
   "id": "83d3cfb4d022d9ab",
   "metadata": {},
   "outputs": [],
   "source": [
    "splitter = SentenceSplitter(chunk_size=1024)\n",
    "nodes = splitter.get_nodes_from_documents(documents)\n",
    "sandy_index = VectorStoreIndex(nodes)"
   ]
  },
  {
   "cell_type": "code",
   "execution_count": null,
   "id": "22104e0a",
   "metadata": {},
   "outputs": [],
   "source": []
  },
  {
   "cell_type": "code",
   "execution_count": 38,
   "id": "a15c6bc77d3692ca",
   "metadata": {},
   "outputs": [],
   "source": [
    "# print(nodes[0].get_content(metadata_mode='all'))"
   ]
  },
  {
   "cell_type": "code",
   "execution_count": 39,
   "id": "b4e21ea994194d7e",
   "metadata": {},
   "outputs": [],
   "source": [
    "filters = MetadataFilters(\n",
    "    filters=[\n",
    "        MetadataFilter(key=\"post_year\", value=\"2018\"),\n",
    "        MetadataFilter(key=\"post_title\", value=\"Dreams Do Come True\")\n",
    "    ],\n",
    "    condition=FilterCondition.OR \n",
    ")\n",
    "\n",
    "query_engine_test = sandy_index.as_query_engine(\n",
    "    similarity_top_k=5,\n",
    "    filters=filters,\n",
    ")"
   ]
  },
  {
   "cell_type": "code",
   "execution_count": 40,
   "id": "74ba3dc3ff11fa93",
   "metadata": {},
   "outputs": [],
   "source": [
    "response = query_engine_test.retrieve(\n",
    "    \"What is mentioned about Ford EcoSport?\"\n",
    ")\n",
    "\n",
    "# response = query_engine_test.query(\n",
    "#     \"What is mentioned about Ford EcoSport?\"\n",
    "# )\n",
    "# print(str(response))\n",
    "\n",
    "# print(str(response))"
   ]
  },
  {
   "cell_type": "code",
   "execution_count": 41,
   "id": "cba9a3e2",
   "metadata": {},
   "outputs": [
    {
     "name": "stdout",
     "output_type": "stream",
     "text": [
      "{'page_label': '4', 'file_name': 'Car Drives - So Far__2018.pdf', 'post_title': 'Car Drives - So Far', 'post_year': '2018'}\n",
      "{'page_label': '1', 'file_name': 'Road Trip to Pondicherry__2018.pdf', 'post_title': 'Road Trip to Pondicherry', 'post_year': '2018'}\n",
      "{'page_label': '1', 'file_name': 'Car Drives - So Far__2018.pdf', 'post_title': 'Car Drives - So Far', 'post_year': '2018'}\n",
      "{'page_label': '3', 'file_name': 'Car Drives - So Far__2018.pdf', 'post_title': 'Car Drives - So Far', 'post_year': '2018'}\n",
      "{'page_label': '3', 'file_name': 'Dreams Do Come True__2018.pdf', 'post_title': 'Dreams Do Come True', 'post_year': '2018'}\n"
     ]
    }
   ],
   "source": [
    "for i in response:\n",
    "    print(i.metadata)"
   ]
  },
  {
   "cell_type": "code",
   "execution_count": 42,
   "id": "f06e989f7a1f80c8",
   "metadata": {},
   "outputs": [],
   "source": [
    "# for n in response.source_nodes:\n",
    "#     print(n.metadata)"
   ]
  },
  {
   "cell_type": "markdown",
   "id": "3b96949f04e39087",
   "metadata": {},
   "source": [
    "### Define a Auto-Retrival Tool"
   ]
  },
  {
   "cell_type": "code",
   "execution_count": 43,
   "id": "25f01c81d9f8caad",
   "metadata": {},
   "outputs": [],
   "source": [
    "def post_specific(input: str, post_year: Optional[List[str]] = [], post_title: Optional[List[str]] = [], conditionType: Optional[str] = 'AND') -> str:\n",
    "    metadata_dicts = [\n",
    "        {'key': 'post_year', 'value': p} for p in post_year\n",
    "    ] + [\n",
    "        {'key': 'post_title', 'value': p} for p in post_title\n",
    "    ]\n",
    "       \n",
    "    if conditionType == 'OR':\n",
    "        conditionType = FilterCondition.OR\n",
    "    else:\n",
    "        conditionType = FilterCondition.AND\n",
    "    \n",
    "    query_engine = sandy_index.as_query_engine(\n",
    "        similarity_top_k=5,\n",
    "        filters=MetadataFilters.from_dicts(\n",
    "            metadata_dicts,\n",
    "            condition=conditionType\n",
    "        )\n",
    "    )\n",
    "    \n",
    "    response = query_engine.query(input)\n",
    "    return response\n",
    "\n",
    "\n",
    "post_specific_tool = FunctionTool.from_defaults(\n",
    "    name='post_specific',\n",
    "    description=(\n",
    "                \"Use this tool to fetch year or title specific blog articles.\\\n",
    "                Provide the original query as input to the tool to get relevant chunks\"\n",
    "            ),\n",
    "    fn=post_specific\n",
    ")"
   ]
  },
  {
   "cell_type": "code",
   "execution_count": 44,
   "id": "592015a4",
   "metadata": {},
   "outputs": [],
   "source": [
    "sandy_engine = sandy_index.as_query_engine(\n",
    "    similarity_top_k=5\n",
    ")"
   ]
  },
  {
   "cell_type": "code",
   "execution_count": 47,
   "id": "beeba900",
   "metadata": {},
   "outputs": [],
   "source": [
    "query_engine_tools = [\n",
    "    QueryEngineTool(\n",
    "        query_engine=sandy_engine,\n",
    "        metadata=ToolMetadata(\n",
    "            name=\"sandy\",\n",
    "            description=(\n",
    "                \"Provides generic information about Sandy or author blog post articles. \"\n",
    "                \"Use a detailed plain text question as input to the tool.\"\n",
    "            ),\n",
    "        ),\n",
    "    ),\n",
    "    post_specific_tool\n",
    "]"
   ]
  },
  {
   "cell_type": "code",
   "execution_count": 48,
   "id": "36e39bfa",
   "metadata": {},
   "outputs": [],
   "source": [
    "context = \"\"\"\\\n",
    "You are helpful assistant and provided with blog posts articles.\n",
    "Answer the questions asked based on the blogposts.\n",
    "\"\"\"\n",
    "\n",
    "agent = ReActAgent.from_tools(\n",
    "    query_engine_tools,\n",
    "    llm=llm,\n",
    "    verbose=True,\n",
    "    context=context\n",
    ")"
   ]
  },
  {
   "cell_type": "code",
   "execution_count": 49,
   "id": "929d7ce5",
   "metadata": {},
   "outputs": [
    {
     "data": {
      "text/plain": [
       "{'page_label': '2',\n",
       " 'file_name': 'Inch by Inch__2018.pdf',\n",
       " 'post_title': 'Inch by Inch',\n",
       " 'post_year': '2018'}"
      ]
     },
     "execution_count": 49,
     "metadata": {},
     "output_type": "execute_result"
    }
   ],
   "source": [
    "{'page_label': '1', 'file_name': 'Dreams Do Come True__2018.pdf', 'post_title': 'Dreams Do Come True', 'post_year': '2018'}\n",
    "{'page_label': '5', 'file_name': 'Inch by Inch__2018.pdf', 'post_title': 'Inch by Inch', 'post_year': '2018'}\n",
    "{'page_label': '1', 'file_name': 'Car Drives - So Far__2018.pdf', 'post_title': 'Car Drives - So Far', 'post_year': '2018'}\n",
    "{'page_label': '3', 'file_name': 'Inch by Inch__2018.pdf', 'post_title': 'Inch by Inch', 'post_year': '2018'}\n",
    "{'page_label': '2', 'file_name': 'Inch by Inch__2018.pdf', 'post_title': 'Inch by Inch', 'post_year': '2018'}"
   ]
  },
  {
   "cell_type": "code",
   "execution_count": 52,
   "id": "e676b815",
   "metadata": {
    "scrolled": false
   },
   "outputs": [
    {
     "name": "stdout",
     "output_type": "stream",
     "text": [
      "> Running step 2d8644e7-b919-402b-bab5-a329f543fdeb. Step input: Give me name of the article which was published in 2017 and again in 2021?\n",
      "\u001b[1;3;38;5;200mThought: The current language of the user is English. I need to use a tool to help me answer the question.\n",
      "Action: post_specific\n",
      "Action Input: {'input': 'article published in 2017 and again in 2021', 'post_year': ['2017', '2021'], 'conditionType': 'AND'}\n",
      "\u001b[0m\u001b[1;3;34mObservation: Empty Response\n",
      "\u001b[0m> Running step 6a7268c7-983a-402c-8eb7-bb9c2e4dc511. Step input: None\n",
      "\u001b[1;3;38;5;200mThought: The tool did not provide any relevant information. I need to try another approach.\n",
      "Action: post_specific\n",
      "Action Input: {'input': 'article published in 2017 and again in 2021', 'post_title': [], 'conditionType': 'AND'}\n",
      "\u001b[0m\u001b[1;3;34mObservation: There is no article that was published in both 2017 and 2021. However, there are two articles from different years with similar themes.\n",
      "\n",
      "One article, titled \"Are You Giving Your Best\", was published in 2017. It discusses the importance of giving one's best effort in various aspects of life.\n",
      "\n",
      "Another article, which is part of a series reflecting on past years, mentions that the author wants to feel all emotions intensely in 2021, including happiness and sadness.\n",
      "\u001b[0m> Running step 56be11b3-ff9a-481f-9f3b-485d33af1de8. Step input: None\n",
      "\u001b[1;3;38;5;200mThought: I can answer without using any more tools. I'll use the user's language to answer\n",
      "Answer: Unfortunately, there isn't an article that was published in both 2017 and 2021. However, two articles with similar themes were found. One is titled \"Are You Giving Your Best\" and was published in 2017, discussing the importance of giving one's best effort. The other article, part of a series reflecting on past years, mentions that the author wants to feel all emotions intensely in 2021, including happiness and sadness.\n",
      "\u001b[0m\n",
      "\n",
      "---Unfortunately, there isn't an article that was published in both 2017 and 2021. However, two articles with similar themes were found. One is titled \"Are You Giving Your Best\" and was published in 2017, discussing the importance of giving one's best effort. The other article, part of a series reflecting on past years, mentions that the author wants to feel all emotions intensely in 2021, including happiness and sadness.\n",
      "CPU times: total: 125 ms\n",
      "Wall time: 19.3 s\n"
     ]
    }
   ],
   "source": [
    "%%time\n",
    "agent.reset()\n",
    "response = agent.query(\"Give me name of the article which was published in 2017 and again in 2021?\")\n",
    "\n",
    "print('\\n\\n---'+str(response))"
   ]
  },
  {
   "cell_type": "code",
   "execution_count": null,
   "id": "1aa4ef81",
   "metadata": {},
   "outputs": [],
   "source": [
    "# Dreams Do Come True - was published in 2018 - so we call this plus all articles in 2020"
   ]
  },
  {
   "cell_type": "code",
   "execution_count": 55,
   "id": "ff3a85cc",
   "metadata": {},
   "outputs": [
    {
     "name": "stdout",
     "output_type": "stream",
     "text": [
      "> Running step 1be30c00-dce7-4d2e-9ede-2e8720ba264b. Step input: Give one line summary for each of the following articles - 1. articles published in 2020 and 2. article titled - 'Dreams Do Come True'?\n",
      "\u001b[1;3;38;5;200mThought: The user has asked me to provide a one-line summary for two specific articles. I need to use a tool to help me answer the question.\n",
      "Action: post_specific\n",
      "Action Input: {'input': \"Provide a one-line summary for each of the following articles - 1. articles published in 2020 and 2. article titled - 'Dreams Do Come True'?\", 'post_year': ['2020'], 'post_title': ['Dreams Do Come True'], 'conditionType': 'OR'}\n",
      "\u001b[0m\u001b[1;3;34mObservation: Here are the summaries:\n",
      "\n",
      "1. Articles published in 2020:\n",
      "The author reflects on their experiences with rejections in 2019, including job opportunities, higher studies, and marriage proposals, and how they have grown from these setbacks.\n",
      "\n",
      "2. Article titled - 'Dreams Do Come True':\n",
      "The author shares stories of how their childhood dreams and wishes have come true, including getting a passport, traveling by flight for the first time, and buying their first car.\n",
      "\u001b[0m> Running step 52fc1aac-c823-460f-bc16-01fa4ec629c5. Step input: None\n",
      "\u001b[1;3;38;5;200mThought: I can answer without using any more tools. I'll use the user's language to answer\n",
      "Answer: The summaries are as follows: 1. Articles published in 2020: The author reflects on their experiences with rejections in 2019, including job opportunities, higher studies, and marriage proposals, and how they have grown from these setbacks. 2. Article titled - 'Dreams Do Come True': The author shares stories of how their childhood dreams and wishes have come true, including getting a passport, traveling by flight for the first time, and buying their first car.\n",
      "\u001b[0m\n",
      "\n",
      "---The summaries are as follows: 1. Articles published in 2020: The author reflects on their experiences with rejections in 2019, including job opportunities, higher studies, and marriage proposals, and how they have grown from these setbacks. 2. Article titled - 'Dreams Do Come True': The author shares stories of how their childhood dreams and wishes have come true, including getting a passport, traveling by flight for the first time, and buying their first car.\n",
      "CPU times: total: 78.1 ms\n",
      "Wall time: 16.8 s\n"
     ]
    }
   ],
   "source": [
    "%%time\n",
    "agent.reset()\n",
    "response = agent.query(\"Give one line summary for each of the following articles - \\\n",
    "1. articles published in 2020 and \\\n",
    "2. article titled - 'Dreams Do Come True'?\")\n",
    "\n",
    "print('\\n\\n---'+str(response))"
   ]
  },
  {
   "cell_type": "code",
   "execution_count": null,
   "id": "a6f2e00b",
   "metadata": {},
   "outputs": [],
   "source": []
  },
  {
   "cell_type": "code",
   "execution_count": null,
   "id": "5d470ef9",
   "metadata": {},
   "outputs": [],
   "source": []
  },
  {
   "cell_type": "code",
   "execution_count": null,
   "id": "9846e0bd",
   "metadata": {},
   "outputs": [],
   "source": []
  },
  {
   "cell_type": "code",
   "execution_count": null,
   "id": "263dd818",
   "metadata": {},
   "outputs": [],
   "source": []
  },
  {
   "cell_type": "code",
   "execution_count": null,
   "id": "69470d78",
   "metadata": {},
   "outputs": [],
   "source": []
  },
  {
   "cell_type": "code",
   "execution_count": null,
   "id": "6b8cdb71",
   "metadata": {},
   "outputs": [],
   "source": []
  },
  {
   "cell_type": "code",
   "execution_count": null,
   "id": "e48f408a",
   "metadata": {},
   "outputs": [],
   "source": []
  }
 ],
 "metadata": {
  "kernelspec": {
   "display_name": "Python 3 (ipykernel)",
   "language": "python",
   "name": "python3"
  },
  "language_info": {
   "codemirror_mode": {
    "name": "ipython",
    "version": 3
   },
   "file_extension": ".py",
   "mimetype": "text/x-python",
   "name": "python",
   "nbconvert_exporter": "python",
   "pygments_lexer": "ipython3",
   "version": "3.10.9"
  }
 },
 "nbformat": 4,
 "nbformat_minor": 5
}
