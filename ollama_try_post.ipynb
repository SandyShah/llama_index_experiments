{
 "cells": [
  {
   "cell_type": "code",
   "execution_count": null,
   "id": "0a24147a",
   "metadata": {},
   "outputs": [],
   "source": [
    "import os\n",
    "os.environ['CURL_CA_BUNDLE'] = \"\""
   ]
  },
  {
   "cell_type": "code",
   "execution_count": null,
   "id": "d283c09a",
   "metadata": {
    "scrolled": false
   },
   "outputs": [],
   "source": [
    "from llama_index.llms.ollama import Ollama\n",
    "from llama_index.embeddings.huggingface import HuggingFaceEmbedding\n",
    "from llama_index.core import Settings\n",
    "\n",
    "llm = Ollama(model=\"llama3:8b-instruct-q5_K_M\", request_timeout=120.0)\n",
    "\n",
    "embed_model = HuggingFaceEmbedding(model_name=\"BAAI/bge-small-en-v1.5\")\n",
    "\n",
    "Settings.llm = llm\n",
    "Settings.embed_model = embed_model"
   ]
  },
  {
   "cell_type": "code",
   "execution_count": null,
   "id": "8d67a95c",
   "metadata": {},
   "outputs": [],
   "source": [
    "response = llm.complete(\"do you like drake or kendrick better?\")\n",
    "\n",
    "print(response)"
   ]
  },
  {
   "cell_type": "code",
   "execution_count": null,
   "id": "9831823d",
   "metadata": {},
   "outputs": [],
   "source": []
  },
  {
   "cell_type": "code",
   "execution_count": null,
   "id": "d3b70776",
   "metadata": {},
   "outputs": [],
   "source": [
    "# !mkdir data\n",
    "# !wget \"https://www.dropbox.com/scl/fi/t1soxfjdp0v44an6sdymd/drake_kendrick_beef.pdf?rlkey=u9546ymb7fj8lk2v64r6p5r5k&st=wjzzrgil&dl=1\" -O data/drake_kendrick_beef.pdf\n",
    "# !wget \"https://www.dropbox.com/scl/fi/nts3n64s6kymner2jppd6/drake.pdf?rlkey=hksirpqwzlzqoejn55zemk6ld&st=mohyfyh4&dl=1\" -O data/drake.pdf\n",
    "# !wget \"https://www.dropbox.com/scl/fi/8ax2vnoebhmy44bes2n1d/kendrick.pdf?rlkey=fhxvn94t5amdqcv9vshifd3hj&st=dxdtytn6&dl=1\" -O data/kendrick.pdf"
   ]
  },
  {
   "cell_type": "code",
   "execution_count": null,
   "id": "9263076a",
   "metadata": {},
   "outputs": [],
   "source": [
    "from llama_index.core import SimpleDirectoryReader\n",
    "\n",
    "docs_kendrick = SimpleDirectoryReader(input_files=[\"data/kendrick.pdf\"]).load_data()\n",
    "docs_drake = SimpleDirectoryReader(input_files=[\"data/drake.pdf\"]).load_data()\n",
    "docs_both = SimpleDirectoryReader(input_files=[\"data/drake_kendrick_beef.pdf\"]).load_data()"
   ]
  },
  {
   "cell_type": "code",
   "execution_count": null,
   "id": "2a40b423",
   "metadata": {},
   "outputs": [],
   "source": []
  },
  {
   "cell_type": "code",
   "execution_count": null,
   "id": "b5de6c79",
   "metadata": {},
   "outputs": [],
   "source": [
    "from llama_index.core import VectorStoreIndex\n",
    "\n",
    "drake_index = VectorStoreIndex.from_documents(docs_drake)\n",
    "drake_query_engine = drake_index.as_query_engine(similarity_top_k=3)\n",
    "\n",
    "kendrick_index = VectorStoreIndex.from_documents(docs_kendrick)\n",
    "kendrick_query_engine = kendrick_index.as_query_engine(similarity_top_k=3)"
   ]
  },
  {
   "cell_type": "code",
   "execution_count": null,
   "id": "f31da1ef",
   "metadata": {},
   "outputs": [],
   "source": [
    "from llama_index.core.tools import QueryEngineTool, ToolMetadata\n",
    "\n",
    "drake_tool = QueryEngineTool(\n",
    "    drake_index.as_query_engine(),\n",
    "    metadata=ToolMetadata(\n",
    "        name=\"drake_search\",\n",
    "        description=\"Useful for searching over Drake's life.\",\n",
    "    ),\n",
    ")\n",
    "\n",
    "kendrick_tool = QueryEngineTool(\n",
    "    kendrick_index.as_query_engine(),\n",
    "    metadata=ToolMetadata(\n",
    "        name=\"kendrick_summary\",\n",
    "        description=\"Useful for searching over Kendrick's life.\",\n",
    "    ),\n",
    ")"
   ]
  },
  {
   "cell_type": "code",
   "execution_count": null,
   "id": "e0ff1600",
   "metadata": {},
   "outputs": [],
   "source": [
    "import nest_asyncio\n",
    "nest_asyncio.apply()"
   ]
  },
  {
   "cell_type": "code",
   "execution_count": null,
   "id": "2c5ca760",
   "metadata": {},
   "outputs": [],
   "source": [
    "from llama_index.core.query_engine import SubQuestionQueryEngine\n",
    "\n",
    "query_engine = SubQuestionQueryEngine.from_defaults(\n",
    "    [drake_tool, kendrick_tool],\n",
    "    llm=llm,  # llama3-70b\n",
    "    verbose=True,\n",
    ")\n"
   ]
  },
  {
   "cell_type": "code",
   "execution_count": null,
   "id": "17134a05",
   "metadata": {},
   "outputs": [],
   "source": [
    "[print(i) for i in query_engine.get_prompts().keys()]"
   ]
  },
  {
   "cell_type": "code",
   "execution_count": null,
   "id": "dcd958e8",
   "metadata": {},
   "outputs": [],
   "source": [
    "print(query_engine.get_prompts()['question_gen:question_gen_prompt'].template)"
   ]
  },
  {
   "cell_type": "code",
   "execution_count": null,
   "id": "b5a311d2",
   "metadata": {},
   "outputs": [],
   "source": [
    "print(query_engine.get_prompts()['response_synthesizer:text_qa_template'].get_template())\n"
   ]
  },
  {
   "cell_type": "code",
   "execution_count": null,
   "id": "856c7f47",
   "metadata": {},
   "outputs": [],
   "source": [
    "print(query_engine.get_prompts()['response_synthesizer:refine_template'].get_template())\n"
   ]
  },
  {
   "cell_type": "code",
   "execution_count": null,
   "id": "aa835e5c",
   "metadata": {},
   "outputs": [],
   "source": [
    "try:\n",
    "    response = query_engine.query(\"Which albums did Drake release in his career?\")\n",
    "\n",
    "    print(response)\n",
    "    \n",
    "except Exception as e:\n",
    "    print(\"\\nERROR - unable to process\")"
   ]
  },
  {
   "cell_type": "code",
   "execution_count": null,
   "id": "6edcea27",
   "metadata": {},
   "outputs": [],
   "source": [
    "del llm"
   ]
  },
  {
   "cell_type": "code",
   "execution_count": null,
   "id": "72d4d9c1",
   "metadata": {},
   "outputs": [],
   "source": [
    "llm = Ollama(model='llama3:8b-instruct-q5_K_M', request_timeout=240.0)\n",
    "    \n",
    "Settings.llm = llm\n",
    "\n",
    "query_engine = SubQuestionQueryEngine.from_defaults(\n",
    "[drake_tool, kendrick_tool],\n",
    "llm=llm,\n",
    "verbose=True,\n",
    ")\n",
    "\n",
    "response = query_engine.query(\"Which albums did Drake release in his career?\")\n",
    "\n",
    "print(response)"
   ]
  },
  {
   "cell_type": "code",
   "execution_count": null,
   "id": "1c0df607",
   "metadata": {},
   "outputs": [],
   "source": []
  },
  {
   "cell_type": "code",
   "execution_count": null,
   "id": "9dfaaa9d",
   "metadata": {},
   "outputs": [],
   "source": []
  },
  {
   "cell_type": "code",
   "execution_count": null,
   "id": "e4eb990b",
   "metadata": {},
   "outputs": [],
   "source": []
  },
  {
   "cell_type": "code",
   "execution_count": null,
   "id": "83956982",
   "metadata": {},
   "outputs": [],
   "source": [
    "A = query_engine.get_prompts()['question_gen:question_gen_prompt']\n",
    "\n",
    "print(A.template)"
   ]
  },
  {
   "cell_type": "code",
   "execution_count": null,
   "id": "f0cbbae6",
   "metadata": {},
   "outputs": [],
   "source": []
  },
  {
   "cell_type": "code",
   "execution_count": null,
   "id": "2a81faa1",
   "metadata": {},
   "outputs": [],
   "source": [
    "llama_3_prompt_str = (\n",
    "    '''<|begin_of_text|><|start_header_id|>system<|end_header_id|>Given a user question, and a list of tools, output a list of relevant sub-questions in 'json' markdown that when composed can help answer the full user question:\n",
    "    OUTPUT RESULT IN JSON FORMAT AS SHOWN IN EXAMPLE.\n",
    "\n",
    "# Example 1\n",
    "\n",
    "[Tools]\n",
    "```json\n",
    "{{\n",
    "    \"uber_10k\": \"Provides information about Uber financials for year 2021\",\n",
    "    \"lyft_10k\": \"Provides information about Lyft financials for year 2021\"\n",
    "}}\n",
    "```\n",
    "\n",
    "[User Question]\n",
    "Compare and contrast the revenue growth and EBITDA of Uber and Lyft for year 2021\n",
    "\n",
    "\n",
    "[Output]\n",
    "```json\n",
    "{{\n",
    "    \"items\": [\n",
    "        {{\n",
    "            \"sub_question\": \"What is the revenue growth of Uber\",\n",
    "            \"tool_name\": \"uber_10k\"\n",
    "        }},\n",
    "        {{\n",
    "            \"sub_question\": \"What is the EBITDA of Uber\",\n",
    "            \"tool_name\": \"uber_10k\"\n",
    "        }},\n",
    "        {{\n",
    "            \"sub_question\": \"What is the revenue growth of Lyft\",\n",
    "            \"tool_name\": \"lyft_10k\"\n",
    "        }},\n",
    "        {{\n",
    "            \"sub_question\": \"What is the EBITDA of Lyft\",\n",
    "            \"tool_name\": \"lyft_10k\"\n",
    "        }}\n",
    "    ]\n",
    "}}\n",
    "```\n",
    "\n",
    "# Example 2\n",
    "[Tools]\n",
    "```json\n",
    "{tools_str}\n",
    "```\n",
    "\n",
    "<|eot_id|><|start_header_id|>user<|end_header_id|>\n",
    "\n",
    "[User Question]\n",
    "{query_str}\n",
    "\n",
    "[Output]<|eot_id|><|start_header_id|>assistant<|end_header_id|>'''\n",
    ")"
   ]
  },
  {
   "cell_type": "code",
   "execution_count": null,
   "id": "74a4bc59",
   "metadata": {},
   "outputs": [],
   "source": [
    "query_engine.get_prompts()['question_gen:question_gen_prompt']"
   ]
  },
  {
   "cell_type": "code",
   "execution_count": null,
   "id": "682014d2",
   "metadata": {},
   "outputs": [],
   "source": [
    "A = query_engine.get_prompts()['question_gen:question_gen_prompt']\n",
    "A.template = llama_3_prompt_str\n",
    "query_engine.update_prompts(\n",
    "    {\"question_gen:question_gen_prompt\": A})"
   ]
  },
  {
   "cell_type": "code",
   "execution_count": null,
   "id": "22ffb56a",
   "metadata": {},
   "outputs": [],
   "source": [
    "# A = query_engine.get_prompts()['question_gen:question_gen_prompt']\n",
    "\n",
    "# print(A.template)"
   ]
  },
  {
   "cell_type": "code",
   "execution_count": null,
   "id": "7da5f354",
   "metadata": {},
   "outputs": [],
   "source": []
  },
  {
   "cell_type": "code",
   "execution_count": null,
   "id": "fa0d8a9e",
   "metadata": {},
   "outputs": [],
   "source": [
    "llm = Ollama(model='llama3:8b-instruct-q5_K_M', request_timeout=240.0)\n",
    "    \n",
    "Settings.llm = llm\n",
    "\n",
    "query_engine = SubQuestionQueryEngine.from_defaults(\n",
    "[drake_tool, kendrick_tool],\n",
    "llm=llm,\n",
    "verbose=True,\n",
    ")\n",
    "\n",
    "A = query_engine.get_prompts()['question_gen:question_gen_prompt']\n",
    "A.template = llama_3_prompt_str\n",
    "query_engine.update_prompts(\n",
    "    {\"question_gen:question_gen_prompt\": A})\n",
    "\n",
    "response = query_engine.query(\"Which albums did Drake release in his career?\")\n",
    "\n",
    "print(response)"
   ]
  },
  {
   "cell_type": "code",
   "execution_count": null,
   "id": "7c43ee4e",
   "metadata": {},
   "outputs": [],
   "source": [
    "# query_engine.get_prompts()"
   ]
  },
  {
   "cell_type": "code",
   "execution_count": null,
   "id": "43ca96fc",
   "metadata": {},
   "outputs": [],
   "source": []
  },
  {
   "cell_type": "code",
   "execution_count": null,
   "id": "8d038f84",
   "metadata": {},
   "outputs": [],
   "source": []
  },
  {
   "cell_type": "code",
   "execution_count": null,
   "id": "c140c1de",
   "metadata": {},
   "outputs": [],
   "source": []
  },
  {
   "cell_type": "code",
   "execution_count": null,
   "id": "3efc0e91",
   "metadata": {
    "scrolled": false
   },
   "outputs": [],
   "source": [
    "models = ['llama3:8b-instruct-q5_K_M', 'llama3:8b-instruct-q8_0']\n",
    "# models = ['llama3:70b-instruct-q2_K']\n",
    "models = ['llama3:8b-instruct-q8_0']\n",
    "prompts = [llama_3_prompt_str]\n",
    "prompt_name = ['llama_3_prompt_str']\n",
    "\n",
    "\n",
    "for model in models:\n",
    "    \n",
    "    del llm\n",
    "    \n",
    "    llm = Ollama(model=model, request_timeout=120.0)\n",
    "    \n",
    "    Settings.llm = llm\n",
    "\n",
    "    query_engine = SubQuestionQueryEngine.from_defaults(\n",
    "    [drake_tool, kendrick_tool],\n",
    "    llm=llm,\n",
    "    verbose=True,\n",
    "    )\n",
    "    \n",
    "    \n",
    "#     print('\\n\\n---------------')\n",
    "#     print('Model:'+model)\n",
    "#     print('Prompt:default')\n",
    "    \n",
    "#     try:\n",
    "#         response = query_engine.query(\"Which albums did Drake release in his career?\")\n",
    "#         print(str(response))\n",
    "    \n",
    "#     except Exception as e:\n",
    "#         print(\"\\nERROR - unable to process\")\n",
    "        \n",
    "        \n",
    "    for i, prompt in enumerate(prompts):\n",
    "        \n",
    "        print('\\n\\n')\n",
    "        print('Model:'+model)\n",
    "        print('Prompt:'+prompt_name[i])\n",
    "\n",
    "        query_engine = SubQuestionQueryEngine.from_defaults(\n",
    "        [drake_tool, kendrick_tool],\n",
    "        llm=llm,\n",
    "        verbose=True,\n",
    "        )\n",
    "\n",
    "        A = query_engine.get_prompts()['question_gen:question_gen_prompt']\n",
    "        A.template = prompt\n",
    "        query_engine.update_prompts(\n",
    "            {\"question_gen:question_gen_prompt\": A})\n",
    "\n",
    "        try:\n",
    "            response = query_engine.query(\"Which albums did Drake release in his career?\")\n",
    "            print(str(response))\n",
    "\n",
    "        except Exception as e:\n",
    "            print(\"\\nERROR - unable to process\")\n",
    "#             print(e)\n",
    "        "
   ]
  },
  {
   "cell_type": "code",
   "execution_count": null,
   "id": "4eff7549",
   "metadata": {},
   "outputs": [],
   "source": []
  },
  {
   "cell_type": "code",
   "execution_count": null,
   "id": "b56cbc3d",
   "metadata": {},
   "outputs": [],
   "source": []
  },
  {
   "cell_type": "code",
   "execution_count": null,
   "id": "d804871e",
   "metadata": {},
   "outputs": [],
   "source": []
  },
  {
   "cell_type": "code",
   "execution_count": null,
   "id": "fbf1eebf",
   "metadata": {},
   "outputs": [],
   "source": []
  },
  {
   "cell_type": "code",
   "execution_count": null,
   "id": "06a2df57",
   "metadata": {},
   "outputs": [],
   "source": []
  },
  {
   "cell_type": "code",
   "execution_count": null,
   "id": "55394ef5",
   "metadata": {},
   "outputs": [],
   "source": []
  },
  {
   "cell_type": "code",
   "execution_count": null,
   "id": "6c4ba890",
   "metadata": {},
   "outputs": [],
   "source": []
  },
  {
   "cell_type": "code",
   "execution_count": null,
   "id": "40d18999",
   "metadata": {},
   "outputs": [],
   "source": []
  },
  {
   "cell_type": "code",
   "execution_count": null,
   "id": "4d3e2722",
   "metadata": {},
   "outputs": [],
   "source": []
  },
  {
   "cell_type": "code",
   "execution_count": null,
   "id": "e140bb2f",
   "metadata": {},
   "outputs": [],
   "source": []
  },
  {
   "cell_type": "code",
   "execution_count": null,
   "id": "456f37d4",
   "metadata": {},
   "outputs": [],
   "source": []
  }
 ],
 "metadata": {
  "kernelspec": {
   "display_name": "Python 3 (ipykernel)",
   "language": "python",
   "name": "python3"
  },
  "language_info": {
   "codemirror_mode": {
    "name": "ipython",
    "version": 3
   },
   "file_extension": ".py",
   "mimetype": "text/x-python",
   "name": "python",
   "nbconvert_exporter": "python",
   "pygments_lexer": "ipython3",
   "version": "3.10.9"
  }
 },
 "nbformat": 4,
 "nbformat_minor": 5
}
